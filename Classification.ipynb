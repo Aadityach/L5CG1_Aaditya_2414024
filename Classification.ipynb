{
  "cells": [
    {
      "cell_type": "code",
      "execution_count": null,
      "metadata": {
        "colab": {
          "base_uri": "https://localhost:8080/"
        },
        "id": "CxP-gOefKBpW",
        "outputId": "7cc5a6ea-d7b4-4929-8fc9-1d07242b0274"
      },
      "outputs": [],
      "source": []
    },
    {
      "cell_type": "code",
      "execution_count": 54,
      "metadata": {
        "id": "CD0KLC4KLOW2"
      },
      "outputs": [],
      "source": [
        "\n",
        "import numpy as np\n",
        "import pandas as pd\n",
        "import matplotlib.pyplot as plt\n",
        "import seaborn as sns\n",
        "from sklearn.model_selection import train_test_split\n",
        "from sklearn.preprocessing import StandardScaler\n",
        "from sklearn.linear_model import LogisticRegression\n",
        "from sklearn.metrics import accuracy_score, classification_report, confusion_matrix\n",
        "from IPython.display import display, Markdown\n",
        "from sklearn.metrics import confusion_matrix, ConfusionMatrixDisplay\n"
      ]
    },
    {
      "cell_type": "markdown",
      "metadata": {
        "id": "VnXeSKeS-GDD"
      },
      "source": [
        "# 1. Exploratory Data Analysis and Data Understanding [5]:\n"
      ]
    },
    {
      "cell_type": "code",
      "execution_count": 55,
      "metadata": {
        "colab": {
          "base_uri": "https://localhost:8080/"
        },
        "id": "spqHO9Px-Dlb",
        "outputId": "d848262b-b1a8-4531-82ac-20f4b66c8e9b"
      },
      "outputs": [
        {
          "data": {
            "text/plain": [
              "Index(['age', 'job', 'marital', 'education', 'default', 'balance', 'housing',\n",
              "       'loan', 'contact', 'day', 'month', 'duration', 'campaign', 'pdays',\n",
              "       'previous', 'poutcome', 'deposit'],\n",
              "      dtype='object')"
            ]
          },
          "execution_count": 55,
          "metadata": {},
          "output_type": "execute_result"
        }
      ],
      "source": [
        "bank_dataset=pd.read_csv('https://raw.githubusercontent.com/Aadityach/L5CG1_Aaditya_2414024/main/bank.csv')\n",
        "bank_dataset.columns"
      ]
    },
    {
      "cell_type": "markdown",
      "metadata": {
        "id": "vpyHyDjA-z5i"
      },
      "source": [
        "Initial Analysis of the Bank Marketing Dataset\n",
        "(a) When and by whom was the dataset created?\n",
        "The Bank Marketing Dataset originates from the UCI Machine Learning Repository and was created by Janio Martinez Bachmann. The dataset was first published in 2018 as part of research on predictive modeling in banking. It was collected from a Portuguese bank’s direct marketing campaigns.\n",
        "\n",
        "(b) How did you access the dataset?\n",
        "The dataset was accessed from an open-source repository. It is commonly available on:\n",
        "\n",
        "Kaggle\n",
        "\n",
        "(c) How does it align with the chosen UNSDG?\n",
        "The dataset aligns with United Nations Sustainable Development Goal (UNSDG) 8: Decent Work and Economic Growth. Specifically:\n",
        "\n",
        "It relates to financial inclusion, promoting savings and financial security through term deposits.\n",
        "It provides insights into consumer behavior in banking, which can help design better financial policies.\n",
        "The dataset can be used to understand how banks can improve economic participation by encouraging saving habits."
      ]
    },
    {
      "cell_type": "code",
      "execution_count": 56,
      "metadata": {
        "colab": {
          "base_uri": "https://localhost:8080/"
        },
        "id": "KrZOGMLkMSsk",
        "outputId": "8559fd15-5b15-465d-f0c5-8a0bdf99e459"
      },
      "outputs": [
        {
          "name": "stdout",
          "output_type": "stream",
          "text": [
            "<class 'pandas.core.frame.DataFrame'>\n",
            "RangeIndex: 11162 entries, 0 to 11161\n",
            "Data columns (total 17 columns):\n",
            " #   Column     Non-Null Count  Dtype \n",
            "---  ------     --------------  ----- \n",
            " 0   age        11162 non-null  int64 \n",
            " 1   job        11162 non-null  object\n",
            " 2   marital    11162 non-null  object\n",
            " 3   education  11162 non-null  object\n",
            " 4   default    11162 non-null  object\n",
            " 5   balance    11162 non-null  int64 \n",
            " 6   housing    11162 non-null  object\n",
            " 7   loan       11162 non-null  object\n",
            " 8   contact    11162 non-null  object\n",
            " 9   day        11162 non-null  int64 \n",
            " 10  month      11162 non-null  object\n",
            " 11  duration   11162 non-null  int64 \n",
            " 12  campaign   11162 non-null  int64 \n",
            " 13  pdays      11162 non-null  int64 \n",
            " 14  previous   11162 non-null  int64 \n",
            " 15  poutcome   11162 non-null  object\n",
            " 16  deposit    11162 non-null  object\n",
            "dtypes: int64(7), object(10)\n",
            "memory usage: 1.4+ MB\n"
          ]
        }
      ],
      "source": [
        "#give information about datatype\n",
        "bank_dataset.info()"
      ]
    },
    {
      "cell_type": "code",
      "execution_count": 57,
      "metadata": {
        "colab": {
          "base_uri": "https://localhost:8080/",
          "height": 206
        },
        "id": "yhi1eP11cFkY",
        "outputId": "c604fb1e-04f7-45f7-a706-f8f504ab7043"
      },
      "outputs": [
        {
          "data": {
            "text/html": [
              "<div>\n",
              "<style scoped>\n",
              "    .dataframe tbody tr th:only-of-type {\n",
              "        vertical-align: middle;\n",
              "    }\n",
              "\n",
              "    .dataframe tbody tr th {\n",
              "        vertical-align: top;\n",
              "    }\n",
              "\n",
              "    .dataframe thead th {\n",
              "        text-align: right;\n",
              "    }\n",
              "</style>\n",
              "<table border=\"1\" class=\"dataframe\">\n",
              "  <thead>\n",
              "    <tr style=\"text-align: right;\">\n",
              "      <th></th>\n",
              "      <th>age</th>\n",
              "      <th>job</th>\n",
              "      <th>marital</th>\n",
              "      <th>education</th>\n",
              "      <th>default</th>\n",
              "      <th>balance</th>\n",
              "      <th>housing</th>\n",
              "      <th>loan</th>\n",
              "      <th>contact</th>\n",
              "      <th>day</th>\n",
              "      <th>month</th>\n",
              "      <th>duration</th>\n",
              "      <th>campaign</th>\n",
              "      <th>pdays</th>\n",
              "      <th>previous</th>\n",
              "      <th>poutcome</th>\n",
              "      <th>deposit</th>\n",
              "    </tr>\n",
              "  </thead>\n",
              "  <tbody>\n",
              "    <tr>\n",
              "      <th>0</th>\n",
              "      <td>59</td>\n",
              "      <td>admin.</td>\n",
              "      <td>married</td>\n",
              "      <td>secondary</td>\n",
              "      <td>no</td>\n",
              "      <td>2343</td>\n",
              "      <td>yes</td>\n",
              "      <td>no</td>\n",
              "      <td>unknown</td>\n",
              "      <td>5</td>\n",
              "      <td>may</td>\n",
              "      <td>1042</td>\n",
              "      <td>1</td>\n",
              "      <td>-1</td>\n",
              "      <td>0</td>\n",
              "      <td>unknown</td>\n",
              "      <td>yes</td>\n",
              "    </tr>\n",
              "    <tr>\n",
              "      <th>1</th>\n",
              "      <td>56</td>\n",
              "      <td>admin.</td>\n",
              "      <td>married</td>\n",
              "      <td>secondary</td>\n",
              "      <td>no</td>\n",
              "      <td>45</td>\n",
              "      <td>no</td>\n",
              "      <td>no</td>\n",
              "      <td>unknown</td>\n",
              "      <td>5</td>\n",
              "      <td>may</td>\n",
              "      <td>1467</td>\n",
              "      <td>1</td>\n",
              "      <td>-1</td>\n",
              "      <td>0</td>\n",
              "      <td>unknown</td>\n",
              "      <td>yes</td>\n",
              "    </tr>\n",
              "    <tr>\n",
              "      <th>2</th>\n",
              "      <td>41</td>\n",
              "      <td>technician</td>\n",
              "      <td>married</td>\n",
              "      <td>secondary</td>\n",
              "      <td>no</td>\n",
              "      <td>1270</td>\n",
              "      <td>yes</td>\n",
              "      <td>no</td>\n",
              "      <td>unknown</td>\n",
              "      <td>5</td>\n",
              "      <td>may</td>\n",
              "      <td>1389</td>\n",
              "      <td>1</td>\n",
              "      <td>-1</td>\n",
              "      <td>0</td>\n",
              "      <td>unknown</td>\n",
              "      <td>yes</td>\n",
              "    </tr>\n",
              "    <tr>\n",
              "      <th>3</th>\n",
              "      <td>55</td>\n",
              "      <td>services</td>\n",
              "      <td>married</td>\n",
              "      <td>secondary</td>\n",
              "      <td>no</td>\n",
              "      <td>2476</td>\n",
              "      <td>yes</td>\n",
              "      <td>no</td>\n",
              "      <td>unknown</td>\n",
              "      <td>5</td>\n",
              "      <td>may</td>\n",
              "      <td>579</td>\n",
              "      <td>1</td>\n",
              "      <td>-1</td>\n",
              "      <td>0</td>\n",
              "      <td>unknown</td>\n",
              "      <td>yes</td>\n",
              "    </tr>\n",
              "    <tr>\n",
              "      <th>4</th>\n",
              "      <td>54</td>\n",
              "      <td>admin.</td>\n",
              "      <td>married</td>\n",
              "      <td>tertiary</td>\n",
              "      <td>no</td>\n",
              "      <td>184</td>\n",
              "      <td>no</td>\n",
              "      <td>no</td>\n",
              "      <td>unknown</td>\n",
              "      <td>5</td>\n",
              "      <td>may</td>\n",
              "      <td>673</td>\n",
              "      <td>2</td>\n",
              "      <td>-1</td>\n",
              "      <td>0</td>\n",
              "      <td>unknown</td>\n",
              "      <td>yes</td>\n",
              "    </tr>\n",
              "  </tbody>\n",
              "</table>\n",
              "</div>"
            ],
            "text/plain": [
              "   age         job  marital  education default  balance housing loan  contact  \\\n",
              "0   59      admin.  married  secondary      no     2343     yes   no  unknown   \n",
              "1   56      admin.  married  secondary      no       45      no   no  unknown   \n",
              "2   41  technician  married  secondary      no     1270     yes   no  unknown   \n",
              "3   55    services  married  secondary      no     2476     yes   no  unknown   \n",
              "4   54      admin.  married   tertiary      no      184      no   no  unknown   \n",
              "\n",
              "   day month  duration  campaign  pdays  previous poutcome deposit  \n",
              "0    5   may      1042         1     -1         0  unknown     yes  \n",
              "1    5   may      1467         1     -1         0  unknown     yes  \n",
              "2    5   may      1389         1     -1         0  unknown     yes  \n",
              "3    5   may       579         1     -1         0  unknown     yes  \n",
              "4    5   may       673         2     -1         0  unknown     yes  "
            ]
          },
          "execution_count": 57,
          "metadata": {},
          "output_type": "execute_result"
        }
      ],
      "source": [
        "#print 5 rows with\n",
        "bank_dataset.head(5)"
      ]
    },
    {
      "cell_type": "code",
      "execution_count": 58,
      "metadata": {
        "colab": {
          "base_uri": "https://localhost:8080/",
          "height": 112
        },
        "id": "eg4tbPlmcgKJ",
        "outputId": "ca99ac09-d006-4bfb-88d8-b2a3150d201a"
      },
      "outputs": [
        {
          "data": {
            "text/html": [
              "<div>\n",
              "<style scoped>\n",
              "    .dataframe tbody tr th:only-of-type {\n",
              "        vertical-align: middle;\n",
              "    }\n",
              "\n",
              "    .dataframe tbody tr th {\n",
              "        vertical-align: top;\n",
              "    }\n",
              "\n",
              "    .dataframe thead th {\n",
              "        text-align: right;\n",
              "    }\n",
              "</style>\n",
              "<table border=\"1\" class=\"dataframe\">\n",
              "  <thead>\n",
              "    <tr style=\"text-align: right;\">\n",
              "      <th></th>\n",
              "      <th>age</th>\n",
              "      <th>job</th>\n",
              "      <th>marital</th>\n",
              "      <th>education</th>\n",
              "      <th>default</th>\n",
              "      <th>balance</th>\n",
              "      <th>housing</th>\n",
              "      <th>loan</th>\n",
              "      <th>contact</th>\n",
              "      <th>day</th>\n",
              "      <th>month</th>\n",
              "      <th>duration</th>\n",
              "      <th>campaign</th>\n",
              "      <th>pdays</th>\n",
              "      <th>previous</th>\n",
              "      <th>poutcome</th>\n",
              "      <th>deposit</th>\n",
              "    </tr>\n",
              "  </thead>\n",
              "  <tbody>\n",
              "    <tr>\n",
              "      <th>11160</th>\n",
              "      <td>43</td>\n",
              "      <td>technician</td>\n",
              "      <td>married</td>\n",
              "      <td>secondary</td>\n",
              "      <td>no</td>\n",
              "      <td>0</td>\n",
              "      <td>no</td>\n",
              "      <td>yes</td>\n",
              "      <td>cellular</td>\n",
              "      <td>8</td>\n",
              "      <td>may</td>\n",
              "      <td>9</td>\n",
              "      <td>2</td>\n",
              "      <td>172</td>\n",
              "      <td>5</td>\n",
              "      <td>failure</td>\n",
              "      <td>no</td>\n",
              "    </tr>\n",
              "    <tr>\n",
              "      <th>11161</th>\n",
              "      <td>34</td>\n",
              "      <td>technician</td>\n",
              "      <td>married</td>\n",
              "      <td>secondary</td>\n",
              "      <td>no</td>\n",
              "      <td>0</td>\n",
              "      <td>no</td>\n",
              "      <td>no</td>\n",
              "      <td>cellular</td>\n",
              "      <td>9</td>\n",
              "      <td>jul</td>\n",
              "      <td>628</td>\n",
              "      <td>1</td>\n",
              "      <td>-1</td>\n",
              "      <td>0</td>\n",
              "      <td>unknown</td>\n",
              "      <td>no</td>\n",
              "    </tr>\n",
              "  </tbody>\n",
              "</table>\n",
              "</div>"
            ],
            "text/plain": [
              "       age         job  marital  education default  balance housing loan  \\\n",
              "11160   43  technician  married  secondary      no        0      no  yes   \n",
              "11161   34  technician  married  secondary      no        0      no   no   \n",
              "\n",
              "        contact  day month  duration  campaign  pdays  previous poutcome  \\\n",
              "11160  cellular    8   may         9         2    172         5  failure   \n",
              "11161  cellular    9   jul       628         1     -1         0  unknown   \n",
              "\n",
              "      deposit  \n",
              "11160      no  \n",
              "11161      no  "
            ]
          },
          "execution_count": 58,
          "metadata": {},
          "output_type": "execute_result"
        }
      ],
      "source": [
        "#give last 2 rows in the dataset\n",
        "bank_dataset.tail(2)"
      ]
    },
    {
      "cell_type": "code",
      "execution_count": 59,
      "metadata": {
        "colab": {
          "base_uri": "https://localhost:8080/",
          "height": 300
        },
        "id": "4GkVA-cdMSqD",
        "outputId": "e57747fb-b994-438f-bc63-19f21c29d732"
      },
      "outputs": [
        {
          "data": {
            "text/html": [
              "<div>\n",
              "<style scoped>\n",
              "    .dataframe tbody tr th:only-of-type {\n",
              "        vertical-align: middle;\n",
              "    }\n",
              "\n",
              "    .dataframe tbody tr th {\n",
              "        vertical-align: top;\n",
              "    }\n",
              "\n",
              "    .dataframe thead th {\n",
              "        text-align: right;\n",
              "    }\n",
              "</style>\n",
              "<table border=\"1\" class=\"dataframe\">\n",
              "  <thead>\n",
              "    <tr style=\"text-align: right;\">\n",
              "      <th></th>\n",
              "      <th>age</th>\n",
              "      <th>balance</th>\n",
              "      <th>day</th>\n",
              "      <th>duration</th>\n",
              "      <th>campaign</th>\n",
              "      <th>pdays</th>\n",
              "      <th>previous</th>\n",
              "    </tr>\n",
              "  </thead>\n",
              "  <tbody>\n",
              "    <tr>\n",
              "      <th>count</th>\n",
              "      <td>11162.000000</td>\n",
              "      <td>11162.000000</td>\n",
              "      <td>11162.000000</td>\n",
              "      <td>11162.000000</td>\n",
              "      <td>11162.000000</td>\n",
              "      <td>11162.000000</td>\n",
              "      <td>11162.000000</td>\n",
              "    </tr>\n",
              "    <tr>\n",
              "      <th>mean</th>\n",
              "      <td>41.231948</td>\n",
              "      <td>1528.538524</td>\n",
              "      <td>15.658036</td>\n",
              "      <td>371.993818</td>\n",
              "      <td>2.508421</td>\n",
              "      <td>51.330407</td>\n",
              "      <td>0.832557</td>\n",
              "    </tr>\n",
              "    <tr>\n",
              "      <th>std</th>\n",
              "      <td>11.913369</td>\n",
              "      <td>3225.413326</td>\n",
              "      <td>8.420740</td>\n",
              "      <td>347.128386</td>\n",
              "      <td>2.722077</td>\n",
              "      <td>108.758282</td>\n",
              "      <td>2.292007</td>\n",
              "    </tr>\n",
              "    <tr>\n",
              "      <th>min</th>\n",
              "      <td>18.000000</td>\n",
              "      <td>-6847.000000</td>\n",
              "      <td>1.000000</td>\n",
              "      <td>2.000000</td>\n",
              "      <td>1.000000</td>\n",
              "      <td>-1.000000</td>\n",
              "      <td>0.000000</td>\n",
              "    </tr>\n",
              "    <tr>\n",
              "      <th>25%</th>\n",
              "      <td>32.000000</td>\n",
              "      <td>122.000000</td>\n",
              "      <td>8.000000</td>\n",
              "      <td>138.000000</td>\n",
              "      <td>1.000000</td>\n",
              "      <td>-1.000000</td>\n",
              "      <td>0.000000</td>\n",
              "    </tr>\n",
              "    <tr>\n",
              "      <th>50%</th>\n",
              "      <td>39.000000</td>\n",
              "      <td>550.000000</td>\n",
              "      <td>15.000000</td>\n",
              "      <td>255.000000</td>\n",
              "      <td>2.000000</td>\n",
              "      <td>-1.000000</td>\n",
              "      <td>0.000000</td>\n",
              "    </tr>\n",
              "    <tr>\n",
              "      <th>75%</th>\n",
              "      <td>49.000000</td>\n",
              "      <td>1708.000000</td>\n",
              "      <td>22.000000</td>\n",
              "      <td>496.000000</td>\n",
              "      <td>3.000000</td>\n",
              "      <td>20.750000</td>\n",
              "      <td>1.000000</td>\n",
              "    </tr>\n",
              "    <tr>\n",
              "      <th>max</th>\n",
              "      <td>95.000000</td>\n",
              "      <td>81204.000000</td>\n",
              "      <td>31.000000</td>\n",
              "      <td>3881.000000</td>\n",
              "      <td>63.000000</td>\n",
              "      <td>854.000000</td>\n",
              "      <td>58.000000</td>\n",
              "    </tr>\n",
              "  </tbody>\n",
              "</table>\n",
              "</div>"
            ],
            "text/plain": [
              "                age       balance           day      duration      campaign  \\\n",
              "count  11162.000000  11162.000000  11162.000000  11162.000000  11162.000000   \n",
              "mean      41.231948   1528.538524     15.658036    371.993818      2.508421   \n",
              "std       11.913369   3225.413326      8.420740    347.128386      2.722077   \n",
              "min       18.000000  -6847.000000      1.000000      2.000000      1.000000   \n",
              "25%       32.000000    122.000000      8.000000    138.000000      1.000000   \n",
              "50%       39.000000    550.000000     15.000000    255.000000      2.000000   \n",
              "75%       49.000000   1708.000000     22.000000    496.000000      3.000000   \n",
              "max       95.000000  81204.000000     31.000000   3881.000000     63.000000   \n",
              "\n",
              "              pdays      previous  \n",
              "count  11162.000000  11162.000000  \n",
              "mean      51.330407      0.832557  \n",
              "std      108.758282      2.292007  \n",
              "min       -1.000000      0.000000  \n",
              "25%       -1.000000      0.000000  \n",
              "50%       -1.000000      0.000000  \n",
              "75%       20.750000      1.000000  \n",
              "max      854.000000     58.000000  "
            ]
          },
          "execution_count": 59,
          "metadata": {},
          "output_type": "execute_result"
        }
      ],
      "source": [
        "#give statitics of the data\n",
        "bank_dataset.describe()"
      ]
    },
    {
      "cell_type": "code",
      "execution_count": 60,
      "metadata": {
        "colab": {
          "base_uri": "https://localhost:8080/",
          "height": 617
        },
        "id": "zV7JZJ7iMSnr",
        "outputId": "607a9b30-55ff-48a2-d346-50a8088038ae"
      },
      "outputs": [
        {
          "data": {
            "text/plain": [
              "age          0\n",
              "job          0\n",
              "marital      0\n",
              "education    0\n",
              "default      0\n",
              "balance      0\n",
              "housing      0\n",
              "loan         0\n",
              "contact      0\n",
              "day          0\n",
              "month        0\n",
              "duration     0\n",
              "campaign     0\n",
              "pdays        0\n",
              "previous     0\n",
              "poutcome     0\n",
              "deposit      0\n",
              "dtype: int64"
            ]
          },
          "execution_count": 60,
          "metadata": {},
          "output_type": "execute_result"
        }
      ],
      "source": [
        "#check the missing data or unknown value like 0\n",
        "bank_dataset.isnull().sum()"
      ]
    },
    {
      "cell_type": "code",
      "execution_count": 61,
      "metadata": {
        "colab": {
          "base_uri": "https://localhost:8080/"
        },
        "id": "iu4TJLhlcqrn",
        "outputId": "a173d49f-bf8d-4aad-89ee-812ccef7998d"
      },
      "outputs": [
        {
          "data": {
            "text/plain": [
              "0"
            ]
          },
          "execution_count": 61,
          "metadata": {},
          "output_type": "execute_result"
        }
      ],
      "source": [
        "#chaeck dupllicate data\n",
        "bank_dataset.duplicated().sum()"
      ]
    },
    {
      "cell_type": "markdown",
      "metadata": {
        "id": "1caCLliXdLT7"
      },
      "source": [
        "# EDA"
      ]
    },
    {
      "cell_type": "code",
      "execution_count": 62,
      "metadata": {
        "colab": {
          "base_uri": "https://localhost:8080/",
          "height": 508
        },
        "id": "VYmDJuS-OL_s",
        "outputId": "8a80d4ad-0732-471f-bdd7-58f1c64a2fbd"
      },
      "outputs": [
        {
          "data": {
            "text/plain": [
              "<Axes: >"
            ]
          },
          "execution_count": 62,
          "metadata": {},
          "output_type": "execute_result"
        },
        {
          "data": {
            "image/png": "[encoded data removed]",
            "text/plain": [
              "<Figure size 640x480 with 2 Axes>"
            ]
          },
          "metadata": {},
          "output_type": "display_data"
        }
      ],
      "source": [
        "bank_dataset_numeric = bank_dataset.select_dtypes(include=[float, int])\n",
        "sns.heatmap(bank_dataset_numeric.corr(), annot=True, cmap='coolwarm', fmt=\".2f\")\n"
      ]
    },
    {
      "cell_type": "markdown",
      "metadata": {},
      "source": [
        "The above diagram shows the heatmap of all the dataframe where it shows that there is slighly correlation and negative correlation"
      ]
    },
    {
      "cell_type": "code",
      "execution_count": 63,
      "metadata": {
        "id": "2tfd5mDnS_In"
      },
      "outputs": [],
      "source": [
        "# Select numerical columns\n",
        "numericCol = bank_dataset.select_dtypes(exclude=\"object\")\n",
        "\n",
        "# Select categorical columns\n",
        "categoricalCol = bank_dataset.select_dtypes(include=\"object\")\n"
      ]
    },
    {
      "cell_type": "code",
      "execution_count": 64,
      "metadata": {
        "colab": {
          "base_uri": "https://localhost:8080/",
          "height": 564
        },
        "id": "xaHRH-cWdp5j",
        "outputId": "6160638b-c686-4082-a9fd-027674b51591"
      },
      "outputs": [
        {
          "data": {
            "image/png": "[encoded data removed]",
            "text/plain": [
              "<Figure size 800x600 with 1 Axes>"
            ]
          },
          "metadata": {},
          "output_type": "display_data"
        }
      ],
      "source": [
        "import matplotlib.pyplot as plt\n",
        "\n",
        "# Plotting the histogram for 'deposit'\n",
        "plt.figure(figsize=(8, 6))\n",
        "plt.hist(bank_dataset['deposit'], bins=30, edgecolor='black')\n",
        "\n",
        "# Adding titles and labels\n",
        "plt.title('Histogram of Deposit')\n",
        "plt.xlabel('Deposit')\n",
        "plt.ylabel('Frequency')\n",
        "\n",
        "# Show the plot\n",
        "plt.show()\n"
      ]
    },
    {
      "cell_type": "markdown",
      "metadata": {},
      "source": [
        "The above diagram shows that there is more non deposit than deposit"
      ]
    },
    {
      "cell_type": "code",
      "execution_count": 65,
      "metadata": {
        "colab": {
          "base_uri": "https://localhost:8080/",
          "height": 521
        },
        "id": "c4mUF5bNomjx",
        "outputId": "2ad3ea70-6fe4-474b-8b56-c06613316cd4"
      },
      "outputs": [
        {
          "data": {
            "image/png": "[encoded data removed]",
            "text/plain": [
              "<Figure size 800x600 with 1 Axes>"
            ]
          },
          "metadata": {},
          "output_type": "display_data"
        }
      ],
      "source": [
        "# Counting the values in 'deposit' column\n",
        "deposit_counts = bank_dataset['deposit'].value_counts()\n",
        "\n",
        "# Plotting the pie chart\n",
        "plt.figure(figsize=(8, 6))\n",
        "plt.pie(deposit_counts, labels=deposit_counts.index, autopct='%1.1f%%', startangle=90, colors=['skyblue', 'lightcoral'])\n",
        "\n",
        "# Adding title\n",
        "plt.title('Pie Chart of Deposit')\n",
        "\n",
        "# Show the plot\n",
        "plt.show()\n"
      ]
    },
    {
      "cell_type": "markdown",
      "metadata": {},
      "source": [
        "here is representation of pie chart where no is 52.6% and yes is 47.4%"
      ]
    },
    {
      "cell_type": "markdown",
      "metadata": {
        "id": "_ImG1iVzd9vs"
      },
      "source": [
        "# Model Processing"
      ]
    },
    {
      "cell_type": "code",
      "execution_count": 66,
      "metadata": {
        "colab": {
          "base_uri": "https://localhost:8080/"
        },
        "id": "QDjdW77QOHjg",
        "outputId": "718440a8-8184-48f3-f477-fbd6ff5d2940"
      },
      "outputs": [
        {
          "name": "stdout",
          "output_type": "stream",
          "text": [
            "Index(['age', 'job', 'marital', 'education', 'default', 'balance', 'housing',\n",
            "       'loan', 'contact', 'day', 'month', 'duration', 'campaign', 'pdays',\n",
            "       'previous', 'poutcome', 'deposit'],\n",
            "      dtype='object')\n",
            "   age         job  marital  education  default  balance  housing  loan  \\\n",
            "0   59      admin.        1  secondary        0     2343        1     0   \n",
            "1   56      admin.        1  secondary        0       45        0     0   \n",
            "2   41  technician        1  secondary        0     1270        1     0   \n",
            "3   55    services        1  secondary        0     2476        1     0   \n",
            "4   54      admin.        1   tertiary        0      184        0     0   \n",
            "\n",
            "   contact  day  month  duration  campaign  pdays  previous  poutcome  deposit  \n",
            "0  unknown    5      8      1042         1     -1         0         3        1  \n",
            "1  unknown    5      8      1467         1     -1         0         3        1  \n",
            "2  unknown    5      8      1389         1     -1         0         3        1  \n",
            "3  unknown    5      8       579         1     -1         0         3        1  \n",
            "4  unknown    5      8       673         2     -1         0         3        1  \n"
          ]
        }
      ],
      "source": [
        "from sklearn.preprocessing import LabelEncoder\n",
        "# Check the column names in the dataset\n",
        "print(bank_dataset.columns)\n",
        "\n",
        "# Now you can modify the categoricalCol list to match the exact column names\n",
        "categoricalCol = [ 'marital', 'default', 'housing', 'loan',  'month', 'poutcome', 'deposit']  # Example without 'education'\n",
        "\n",
        "# Initialize LabelEncoder\n",
        "encoder = LabelEncoder()\n",
        "\n",
        "# Encode categorical variables\n",
        "for col in categoricalCol:\n",
        "    bank_dataset[col] = encoder.fit_transform(bank_dataset[col].astype(str))\n",
        "\n",
        "# Preview the dataset after encoding\n",
        "print(bank_dataset.head())\n"
      ]
    },
    {
      "cell_type": "code",
      "execution_count": 67,
      "metadata": {
        "colab": {
          "base_uri": "https://localhost:8080/",
          "height": 178
        },
        "id": "TyitYJ3_RzCS",
        "outputId": "bd974607-bceb-439f-fd2f-b18e4c0f9398"
      },
      "outputs": [
        {
          "data": {
            "text/plain": [
              "deposit\n",
              "0    5873\n",
              "1    5289\n",
              "Name: count, dtype: int64"
            ]
          },
          "execution_count": 67,
          "metadata": {},
          "output_type": "execute_result"
        }
      ],
      "source": [
        "bank_dataset['deposit'].value_counts()\n"
      ]
    },
    {
      "cell_type": "markdown",
      "metadata": {
        "id": "uczKsiTYDqT0"
      },
      "source": [
        "# Data Preprocessing"
      ]
    },
    {
      "cell_type": "code",
      "execution_count": 68,
      "metadata": {
        "id": "oKx1sADCT-ZX"
      },
      "outputs": [],
      "source": [
        "from sklearn.model_selection import train_test_split\n",
        "\n",
        "# Assuming you have X (features) and y (target)\n",
        "X = bank_dataset.drop('deposit', axis=1)  # Features, dropping the target column 'deposit'\n",
        "y = bank_dataset['deposit']  # Target variable\n",
        "\n",
        "# Split the data into training and test sets\n",
        "X_train, X_test, y_train, y_test = train_test_split(X, y, test_size=0.2, random_state=42)\n",
        "\n",
        "# Now X_test is defined and ready to use\n"
      ]
    },
    {
      "cell_type": "code",
      "execution_count": 69,
      "metadata": {
        "colab": {
          "base_uri": "https://localhost:8080/"
        },
        "id": "de4pDJTiC2v1",
        "outputId": "aeb46dad-887c-47fe-88f0-d1fd1ec85c04"
      },
      "outputs": [
        {
          "name": "stderr",
          "output_type": "stream",
          "text": [
            "C:\\Users\\aadit\\AppData\\Local\\Temp\\ipykernel_6492\\4016796133.py:8: FutureWarning: DataFrame.fillna with 'method' is deprecated and will raise in a future version. Use obj.ffill() or obj.bfill() instead.\n",
            "  bank_dataset.fillna(method=\"ffill\", inplace=True)\n"
          ]
        }
      ],
      "source": [
        "import pandas as pd\n",
        "from sklearn.model_selection import train_test_split\n",
        "from sklearn.metrics import accuracy_score, confusion_matrix, classification_report\n",
        "from sklearn.preprocessing import StandardScaler\n",
        "\n",
        "# Replace 'unknown' with NaN and handle missing values\n",
        "bank_dataset.replace(\"unknown\", pd.NA, inplace=True)\n",
        "bank_dataset.fillna(method=\"ffill\", inplace=True)\n",
        "\n",
        "# Convert categorical columns to numerical using one-hot encoding\n",
        "bank_dataset_encoded = pd.get_dummies(bank_dataset, drop_first=True)\n",
        "\n",
        "# Define features (X) and target (y)\n",
        "X = bank_dataset_encoded.drop('deposit', axis=1)  # drop target column\n",
        "y = bank_dataset_encoded['deposit']  # target variable (deposit_yes = 1 if subscribed, 0 if not)\n",
        "\n",
        "# Split the dataset into training and testing sets (80-20 split)\n",
        "X_train, X_test, y_train, y_test = train_test_split(X, y, test_size=0.2, random_state=42)\n",
        "\n",
        "# Feature scaling (optional, but generally recommended for logistic regression)\n",
        "scaler = StandardScaler()\n",
        "X_train = scaler.fit_transform(X_train)\n",
        "X_test = scaler.transform(X_test)\n"
      ]
    },
    {
      "cell_type": "code",
      "execution_count": 70,
      "metadata": {
        "colab": {
          "base_uri": "https://localhost:8080/"
        },
        "id": "XtNfnyi4U-Iq",
        "outputId": "ec62a63b-9bd8-49a1-baf9-f0511aec5e30"
      },
      "outputs": [
        {
          "name": "stdout",
          "output_type": "stream",
          "text": [
            "Accuracy: 0.7819077474249888\n",
            "Confusion Matrix:\n",
            " [[943 223]\n",
            " [264 803]]\n",
            "Classification Report:\n",
            "               precision    recall  f1-score   support\n",
            "\n",
            "           0       0.78      0.81      0.79      1166\n",
            "           1       0.78      0.75      0.77      1067\n",
            "\n",
            "    accuracy                           0.78      2233\n",
            "   macro avg       0.78      0.78      0.78      2233\n",
            "weighted avg       0.78      0.78      0.78      2233\n",
            "\n"
          ]
        }
      ],
      "source": [
        "from sklearn.linear_model import LogisticRegression\n",
        "\n",
        "# Initialize the Logistic Regression model\n",
        "model = LogisticRegression(random_state=42)\n",
        "\n",
        "# Train the model\n",
        "model.fit(X_train, y_train)\n",
        "\n",
        "# Predict on the test set\n",
        "y_pred = model.predict(X_test)\n",
        "\n",
        "# Evaluate the model's performance\n",
        "print(\"Accuracy:\", accuracy_score(y_test, y_pred))\n",
        "print(\"Confusion Matrix:\\n\", confusion_matrix(y_test, y_pred))\n",
        "print(\"Classification Report:\\n\", classification_report(y_test, y_pred))\n"
      ]
    },
    {
      "cell_type": "markdown",
      "metadata": {
        "id": "_VB3MfJ4Dj-w"
      },
      "source": [
        "# Logistic Regression Implementation (Sigmoid)\n",
        "For binary classification, we will use the Sigmoid function. The output of the model is the probability of a class (deposit = \"yes\" or \"no\")."
      ]
    },
    {
      "cell_type": "code",
      "execution_count": 71,
      "metadata": {
        "colab": {
          "base_uri": "https://localhost:8080/"
        },
        "id": "3dy5PbehPtUd",
        "outputId": "08960410-aefc-4a95-a90a-c14527f1a019"
      },
      "outputs": [
        {
          "name": "stdout",
          "output_type": "stream",
          "text": [
            "All tests passed!\n"
          ]
        }
      ],
      "source": [
        "def sigmoid(z):\n",
        "    return 1 / (1 + np.exp(-z))\n",
        "\n",
        "\n",
        "def test_logistic_function():\n",
        "    \"\"\"\n",
        "    Test cases for the sigmoid function.\n",
        "    \"\"\"\n",
        "\n",
        "    # Test with scalar input\n",
        "    x_scalar = 0\n",
        "    expected_output_scalar = round(1 / (1 + np.exp(0)), 3)  # Expected output: 0.5\n",
        "    assert round(sigmoid(x_scalar), 3) == expected_output_scalar, f\"Test failed for scalar input: {sigmoid(x_scalar)}\"\n",
        "\n",
        "    # Test with positive scalar input\n",
        "    x_pos = 2\n",
        "    expected_output_pos = round(1 / (1 + np.exp(-2)), 3)  # Expected output: ~0.881\n",
        "    assert round(sigmoid(x_pos), 3) == expected_output_pos, f\"Test failed for positive scalar input: {sigmoid(x_pos)}\"\n",
        "\n",
        "    # Test with negative scalar input\n",
        "    x_neg = -3\n",
        "    expected_output_neg = round(1 / (1 + np.exp(3)), 3)  # Expected output: ~0.047\n",
        "    assert round(sigmoid(x_neg), 3) == expected_output_neg, f\"Test failed for negative scalar input: {sigmoid(x_neg)}\"\n",
        "\n",
        "    # Test with numpy array input\n",
        "    x_array = np.array([0, 2, -3])\n",
        "    expected_output_array = np.array([0.5, 0.881, 0.047])  # Adjusted expected values rounded to 3 decimals\n",
        "    # Use np.round to round the array element-wise and compare\n",
        "    assert np.all(np.round(sigmoid(x_array), 3) == expected_output_array), f\"Test failed for numpy array input: {sigmoid(x_array)}\"\n",
        "\n",
        "    print(\"All tests passed!\")\n",
        "\n",
        "# Run the test case\n",
        "test_logistic_function()"
      ]
    },
    {
      "cell_type": "code",
      "execution_count": 72,
      "metadata": {
        "id": "2eEWqPZnP5ue"
      },
      "outputs": [],
      "source": [
        "# Loss Function\n",
        "def calculate_loss(X, y, weights, bias):\n",
        "    linear_model = np.dot(X, weights) + bias\n",
        "    y_pred = sigmoid(linear_model)\n",
        "    # Binary cross-entropy loss\n",
        "    loss = -np.mean(y * np.log(y_pred + 1e-9) + (1 - y) * np.log(1 - y_pred + 1e-9))\n",
        "    return loss"
      ]
    },
    {
      "cell_type": "code",
      "execution_count": 73,
      "metadata": {
        "id": "HF4xeLinP8po"
      },
      "outputs": [],
      "source": [
        "\n",
        "# Gradient Descent\n",
        "def gradient_descent(X, y, y_pred):\n",
        "    n_samples = len(y)\n",
        "    dw = (1 / n_samples) * np.dot(X.T, (y_pred - y))\n",
        "    db = (1 / n_samples) * np.sum(y_pred - y)\n",
        "    return dw, db\n"
      ]
    },
    {
      "cell_type": "code",
      "execution_count": 74,
      "metadata": {
        "id": "HX3iFUYeQANL"
      },
      "outputs": [],
      "source": [
        "\n",
        "\n",
        "def logistic_regression(X, y, lr=0.01, epochs=1000):\n",
        "    # Initialize weights and bias\n",
        "    weights = np.zeros(X.shape[1])\n",
        "    bias = 0\n",
        "\n",
        "    # List to store the loss at each epoch\n",
        "    loss_history = []\n",
        "\n",
        "    # Gradient Descent Loop\n",
        "    for epoch in range(epochs):\n",
        "        # Compute predictions\n",
        "        predictions = sigmoid(np.dot(X, weights) + bias)\n",
        "\n",
        "        # Calculate gradients\n",
        "        dw, db = gradient_descent(X, y, predictions)\n",
        "\n",
        "        # Update weights and bias\n",
        "        weights -= lr * dw\n",
        "        bias -= lr * db\n",
        "\n",
        "        # Calculate and store the loss\n",
        "        loss = calculate_loss(X, y, weights, bias)\n",
        "        loss_history.append(loss)\n",
        "\n",
        "        # Optionally print the loss every 100 epochs\n",
        "        if epoch % 100 == 0:\n",
        "            print(f\"Epoch {epoch}: Loss = {loss:.4f}\")\n",
        "\n",
        "    return weights, bias, loss_history"
      ]
    },
    {
      "cell_type": "code",
      "execution_count": 75,
      "metadata": {
        "id": "vAg1BzYTQDw9"
      },
      "outputs": [],
      "source": [
        "# Prediction Function\n",
        "def predict(X, weights, bias):\n",
        "    linear_model = np.dot(X, weights) + bias\n",
        "    y_pred = sigmoid(linear_model)\n",
        "    return np.array([1 if i > 0.5 else 0 for i in y_pred])\n"
      ]
    },
    {
      "cell_type": "code",
      "execution_count": 76,
      "metadata": {
        "id": "MWRVQsNsQDt3"
      },
      "outputs": [],
      "source": [
        "\n",
        "def evaluate(y_true, y_pred):\n",
        "    tp = np.sum((y_true == 1) & (y_pred == 1))\n",
        "    tn = np.sum((y_true == 0) & (y_pred == 0))\n",
        "    fp = np.sum((y_true == 0) & (y_pred == 1))\n",
        "    fn = np.sum((y_true == 1) & (y_pred == 0))\n",
        "\n",
        "    accuracy = (tp + tn) / len(y_true)\n",
        "    precision = tp / (tp + fp) if (tp + fp) > 0 else 0\n",
        "    recall = tp / (tp + fn) if (tp + fn) > 0 else 0\n",
        "    f1_score = (2 * precision * recall) / (precision + recall) if (precision + recall) > 0 else 0\n",
        "\n",
        "    return {\n",
        "        'Accuracy': accuracy,\n",
        "        'Precision': precision,\n",
        "        'Recall': recall,\n",
        "        'F1 Score': f1_score\n",
        "    }\n"
      ]
    },
    {
      "cell_type": "code",
      "execution_count": 77,
      "metadata": {
        "colab": {
          "base_uri": "https://localhost:8080/"
        },
        "id": "Y84S7J-TQDr0",
        "outputId": "37a32d5b-55fb-4fef-84a4-e0f5450a3375"
      },
      "outputs": [
        {
          "name": "stdout",
          "output_type": "stream",
          "text": [
            "Epoch 0: Loss = 0.6922\n",
            "Epoch 100: Loss = 0.6206\n",
            "Epoch 200: Loss = 0.5810\n",
            "Epoch 300: Loss = 0.5564\n",
            "Epoch 400: Loss = 0.5397\n",
            "Epoch 500: Loss = 0.5278\n",
            "Epoch 600: Loss = 0.5189\n",
            "Epoch 700: Loss = 0.5121\n",
            "Epoch 800: Loss = 0.5067\n",
            "Epoch 900: Loss = 0.5025\n"
          ]
        }
      ],
      "source": [
        "\n",
        "weights, bias, loss_history = logistic_regression(X_train, y_train, lr=0.01, epochs=1000)"
      ]
    },
    {
      "cell_type": "markdown",
      "metadata": {
        "id": "9QsoRc8KWz0k"
      },
      "source": [
        "Train model"
      ]
    },
    {
      "cell_type": "code",
      "execution_count": 78,
      "metadata": {
        "colab": {
          "base_uri": "https://localhost:8080/"
        },
        "id": "XZ5TvzuJqwzc",
        "outputId": "7d49a838-85c4-4ddd-d77d-9b88beb72d0a"
      },
      "outputs": [
        {
          "name": "stdout",
          "output_type": "stream",
          "text": [
            "Train Metrics:\n",
            "Accuracy: 0.7789\n",
            "Precision: 0.7916\n",
            "Recall: 0.7226\n",
            "F1 Score: 0.7556\n",
            "Train Loss: 0.4990\n"
          ]
        }
      ],
      "source": [
        "# Make Predictions\n",
        "y_train_pred = predict(X_train, weights, bias)\n",
        "y_test_pred = predict(X_test, weights, bias)\n",
        "\n",
        "# Evaluate the Model\n",
        "train_metrics = evaluate(y_train, y_train_pred)\n",
        "test_metrics = evaluate(y_test, y_test_pred)\n",
        "\n",
        "# Calculate Loss\n",
        "train_loss = calculate_loss(X_train, y_train, weights, bias)\n",
        "test_loss = calculate_loss(X_test, y_test, weights, bias)\n",
        "\n",
        "# Print Metrics\n",
        "print(\"Train Metrics:\")\n",
        "for metric, value in train_metrics.items():\n",
        "    print(f\"{metric}: {value:.4f}\")\n",
        "print(f\"Train Loss: {train_loss:.4f}\")\n",
        "\n"
      ]
    },
    {
      "cell_type": "code",
      "execution_count": 79,
      "metadata": {
        "colab": {
          "base_uri": "https://localhost:8080/"
        },
        "id": "TWhULyz0qwv0",
        "outputId": "3b4cc9a9-23e6-46a3-9ad1-bad38d1245be"
      },
      "outputs": [
        {
          "name": "stdout",
          "output_type": "stream",
          "text": [
            "\n",
            "Test Metrics:\n",
            "Accuracy: 0.7801\n",
            "Precision: 0.7863\n",
            "Recall: 0.7413\n",
            "F1 Score: 0.7631\n",
            "Test Loss: 0.4892\n"
          ]
        }
      ],
      "source": [
        "print(\"\\nTest Metrics:\")\n",
        "for metric, value in test_metrics.items():\n",
        "    print(f\"{metric}: {value:.4f}\")\n",
        "print(f\"Test Loss: {test_loss:.4f}\")"
      ]
    },
    {
      "cell_type": "code",
      "execution_count": 80,
      "metadata": {
        "colab": {
          "base_uri": "https://localhost:8080/",
          "height": 564
        },
        "id": "Z86nVsGFqwtL",
        "outputId": "4bc7405d-de51-443a-bc00-28a9189d93f5"
      },
      "outputs": [
        {
          "data": {
            "image/png": "[encoded data removed]",
            "text/plain": [
              "<Figure size 800x600 with 1 Axes>"
            ]
          },
          "metadata": {},
          "output_type": "display_data"
        }
      ],
      "source": [
        "# Plot the Loss vs Epochs (Learning Curve)\n",
        "plt.figure(figsize=(8, 6))\n",
        "plt.plot(loss_history, label=\"Training Loss\", color='blue')\n",
        "plt.title('Cost vs Iterations (Learning Curve)')\n",
        "plt.xlabel('Epochs')\n",
        "plt.ylabel('Cost (Loss)')\n",
        "plt.legend()\n",
        "plt.grid(True)\n",
        "plt.show()"
      ]
    },
    {
      "cell_type": "code",
      "execution_count": 81,
      "metadata": {
        "id": "RhFFq_ZvqwYJ"
      },
      "outputs": [],
      "source": [
        "import matplotlib.pyplot as plt\n",
        "import seaborn as sns\n",
        "from sklearn.metrics import confusion_matrix\n",
        "\n",
        "def plot_confusion_matrix(y_true, y_pred):\n",
        "    \"\"\"\n",
        "    Plots the confusion matrix using Seaborn heatmap with custom labels for deposit prediction.\n",
        "\n",
        "    Args:\n",
        "        y_true (np.array): True labels ('yes' or 'no').\n",
        "        y_pred (np.array): Predicted labels ('yes' or 'no').\n",
        "    \"\"\"\n",
        "    # If the labels are encoded as integers (0, 1), map them back to 'no' and 'yes'\n",
        "    if set(y_true) == {0, 1} and set(y_pred) == {0, 1}:  # check if labels are numeric (0, 1)\n",
        "        y_true = ['no' if label == 0 else 'yes' for label in y_true]\n",
        "        y_pred = ['no' if label == 0 else 'yes' for label in y_pred]\n",
        "\n",
        "    # Create the confusion matrix\n",
        "    cm = confusion_matrix(y_true, y_pred, labels=['no', 'yes'])\n",
        "    class_labels = ['No Deposit', 'Deposit']  # Mapping: 'no' -> No Deposit, 'yes' -> Deposit\n",
        "\n",
        "    # Create a heatmap\n",
        "    plt.figure(figsize=(6, 5))\n",
        "    sns.heatmap(cm, annot=True, fmt=\"d\", cmap=\"Blues\", xticklabels=class_labels, yticklabels=class_labels)\n",
        "    plt.xlabel(\"Predicted Labels\")\n",
        "    plt.ylabel(\"True Labels\")\n",
        "    plt.title(\"Confusion Matrix for Deposit Prediction\")\n",
        "    plt.show()\n"
      ]
    },
    {
      "cell_type": "code",
      "execution_count": 82,
      "metadata": {
        "colab": {
          "base_uri": "https://localhost:8080/",
          "height": 508
        },
        "id": "eoLUcauVnVEW",
        "outputId": "d06e040a-bc87-4e74-8e00-43da93cc3765"
      },
      "outputs": [
        {
          "data": {
            "text/markdown": [
              "### Confusion Matrix for Training Set:"
            ],
            "text/plain": [
              "<IPython.core.display.Markdown object>"
            ]
          },
          "metadata": {},
          "output_type": "display_data"
        },
        {
          "data": {
            "text/plain": [
              "<sklearn.metrics._plot.confusion_matrix.ConfusionMatrixDisplay at 0x29cd8a6f080>"
            ]
          },
          "execution_count": 82,
          "metadata": {},
          "output_type": "execute_result"
        },
        {
          "data": {
            "image/png": "[encoded data removed]",
            "text/plain": [
              "<Figure size 640x480 with 2 Axes>"
            ]
          },
          "metadata": {},
          "output_type": "display_data"
        }
      ],
      "source": [
        "\n",
        "# Make predictions on the training set\n",
        "y_train_pred = model.predict(X_train)\n",
        "\n",
        "# Display markdown header\n",
        "display(Markdown(\"### Confusion Matrix for Training Set:\"))\n",
        "\n",
        "# Compute and plot confusion matrix\n",
        "cm = confusion_matrix(y_train, y_train_pred)\n",
        "disp = ConfusionMatrixDisplay(confusion_matrix=cm)\n",
        "disp.plot(cmap=\"Blues\")\n",
        "\n"
      ]
    },
    {
      "cell_type": "code",
      "execution_count": 83,
      "metadata": {
        "colab": {
          "base_uri": "https://localhost:8080/",
          "height": 528
        },
        "id": "pKJ23jtNnVBn",
        "outputId": "ebb6dda3-2b5d-41db-9b10-f85629efe122"
      },
      "outputs": [
        {
          "data": {
            "text/markdown": [
              "### Confusion Matrix for Test Set:"
            ],
            "text/plain": [
              "<IPython.core.display.Markdown object>"
            ]
          },
          "metadata": {},
          "output_type": "display_data"
        },
        {
          "data": {
            "image/png": "[encoded data removed]",
            "text/plain": [
              "<Figure size 600x500 with 2 Axes>"
            ]
          },
          "metadata": {},
          "output_type": "display_data"
        }
      ],
      "source": [
        "display(Markdown(\"### Confusion Matrix for Test Set:\"))\n",
        "plot_confusion_matrix(y_test, y_test_pred)\n"
      ]
    },
    {
      "cell_type": "markdown",
      "metadata": {},
      "source": [
        "•\tCompare models and justify the best performer.\n",
        "Gradient Boosting Classifier (GBC) is better than Linear Regression (LR) for classification because LR is designed for regression, not classification. GBC handles non-linear relationships, provides higher accuracy, and works well with complex datasets. LR assumes a linear relationship, making it unsuitable for classification. For classification tasks, GBC outperforms LR in both flexibility and predictive power."
      ]
    },
    {
      "cell_type": "markdown",
      "metadata": {
        "id": "fLFypoPAYl8c"
      },
      "source": [
        "# Primary model\n",
        "Model 1"
      ]
    },
    {
      "cell_type": "code",
      "execution_count": 84,
      "metadata": {
        "colab": {
          "base_uri": "https://localhost:8080/"
        },
        "id": "AV7z7ff8nU_B",
        "outputId": "c5ed7a29-39d8-40c6-b875-8c7298c067d4"
      },
      "outputs": [
        {
          "name": "stdout",
          "output_type": "stream",
          "text": [
            "Accuracy on training set: 0.7902340687646993\n",
            "Classification Report on training set:\n",
            "              precision    recall  f1-score   support\n",
            "\n",
            "           0       0.78      0.83      0.81      4707\n",
            "           1       0.80      0.75      0.77      4222\n",
            "\n",
            "    accuracy                           0.79      8929\n",
            "   macro avg       0.79      0.79      0.79      8929\n",
            "weighted avg       0.79      0.79      0.79      8929\n",
            "\n",
            "Accuracy on test set: 0.7819077474249888\n",
            "Classification Report on test set:\n",
            "              precision    recall  f1-score   support\n",
            "\n",
            "           0       0.78      0.81      0.79      1166\n",
            "           1       0.78      0.75      0.77      1067\n",
            "\n",
            "    accuracy                           0.78      2233\n",
            "   macro avg       0.78      0.78      0.78      2233\n",
            "weighted avg       0.78      0.78      0.78      2233\n",
            "\n"
          ]
        }
      ],
      "source": [
        "\n",
        "# Train the Logistic Regression model\n",
        "lr = LogisticRegression()\n",
        "lr.fit(X_train, y_train)\n",
        "\n",
        "# Make predictions\n",
        "y_pred_train = lr.predict(X_train)\n",
        "y_pred_test = lr.predict(X_test)\n",
        "\n",
        "# Calculate accuracy and classification reports\n",
        "acc_train = accuracy_score(y_train, y_pred_train)\n",
        "class_report_train = classification_report(y_train, y_pred_train)\n",
        "acc_test = accuracy_score(y_test, y_pred_test)\n",
        "class_report_test = classification_report(y_test, y_pred_test)\n",
        "\n",
        "# Print results\n",
        "print(f'Accuracy on training set: {acc_train}')\n",
        "print(f'Classification Report on training set:\\n{class_report_train}')\n",
        "print(f'Accuracy on test set: {acc_test}')\n",
        "print(f'Classification Report on test set:\\n{class_report_test}')\n"
      ]
    },
    {
      "cell_type": "markdown",
      "metadata": {
        "id": "txp9izADwMtm"
      },
      "source": [
        "# Optimized Model with Hyperparameter Tuning"
      ]
    },
    {
      "cell_type": "markdown",
      "metadata": {
        "id": "EeTJGAXo6oPk"
      },
      "source": [
        "model 1"
      ]
    },
    {
      "cell_type": "code",
      "execution_count": 85,
      "metadata": {
        "colab": {
          "base_uri": "https://localhost:8080/"
        },
        "id": "b-gHkd9CrnDn",
        "outputId": "088c2545-3d96-477d-d9f0-40e2ec978b31"
      },
      "outputs": [
        {
          "name": "stdout",
          "output_type": "stream",
          "text": [
            "Best Parameters: {'C': 1, 'max_iter': 100, 'penalty': 'l2', 'solver': 'liblinear'}\n",
            "Best Accuracy: 0.7886672877437648\n"
          ]
        },
        {
          "name": "stderr",
          "output_type": "stream",
          "text": [
            "c:\\Python312\\Lib\\site-packages\\sklearn\\model_selection\\_validation.py:528: FitFailedWarning: \n",
            "500 fits failed out of a total of 1200.\n",
            "The score on these train-test partitions for these parameters will be set to nan.\n",
            "If these failures are not expected, you can try to debug them by setting error_score='raise'.\n",
            "\n",
            "Below are more details about the failures:\n",
            "--------------------------------------------------------------------------------\n",
            "100 fits failed with the following error:\n",
            "Traceback (most recent call last):\n",
            "  File \"c:\\Python312\\Lib\\site-packages\\sklearn\\model_selection\\_validation.py\", line 866, in _fit_and_score\n",
            "    estimator.fit(X_train, y_train, **fit_params)\n",
            "  File \"c:\\Python312\\Lib\\site-packages\\sklearn\\base.py\", line 1389, in wrapper\n",
            "    return fit_method(estimator, *args, **kwargs)\n",
            "           ^^^^^^^^^^^^^^^^^^^^^^^^^^^^^^^^^^^^^^\n",
            "  File \"c:\\Python312\\Lib\\site-packages\\sklearn\\linear_model\\_logistic.py\", line 1193, in fit\n",
            "    solver = _check_solver(self.solver, self.penalty, self.dual)\n",
            "             ^^^^^^^^^^^^^^^^^^^^^^^^^^^^^^^^^^^^^^^^^^^^^^^^^^^\n",
            "  File \"c:\\Python312\\Lib\\site-packages\\sklearn\\linear_model\\_logistic.py\", line 63, in _check_solver\n",
            "    raise ValueError(\n",
            "ValueError: Solver lbfgs supports only 'l2' or None penalties, got l1 penalty.\n",
            "\n",
            "--------------------------------------------------------------------------------\n",
            "100 fits failed with the following error:\n",
            "Traceback (most recent call last):\n",
            "  File \"c:\\Python312\\Lib\\site-packages\\sklearn\\model_selection\\_validation.py\", line 866, in _fit_and_score\n",
            "    estimator.fit(X_train, y_train, **fit_params)\n",
            "  File \"c:\\Python312\\Lib\\site-packages\\sklearn\\base.py\", line 1389, in wrapper\n",
            "    return fit_method(estimator, *args, **kwargs)\n",
            "           ^^^^^^^^^^^^^^^^^^^^^^^^^^^^^^^^^^^^^^\n",
            "  File \"c:\\Python312\\Lib\\site-packages\\sklearn\\linear_model\\_logistic.py\", line 1193, in fit\n",
            "    solver = _check_solver(self.solver, self.penalty, self.dual)\n",
            "             ^^^^^^^^^^^^^^^^^^^^^^^^^^^^^^^^^^^^^^^^^^^^^^^^^^^\n",
            "  File \"c:\\Python312\\Lib\\site-packages\\sklearn\\linear_model\\_logistic.py\", line 71, in _check_solver\n",
            "    raise ValueError(\n",
            "ValueError: Only 'saga' solver supports elasticnet penalty, got solver=liblinear.\n",
            "\n",
            "--------------------------------------------------------------------------------\n",
            "100 fits failed with the following error:\n",
            "Traceback (most recent call last):\n",
            "  File \"c:\\Python312\\Lib\\site-packages\\sklearn\\model_selection\\_validation.py\", line 866, in _fit_and_score\n",
            "    estimator.fit(X_train, y_train, **fit_params)\n",
            "  File \"c:\\Python312\\Lib\\site-packages\\sklearn\\base.py\", line 1389, in wrapper\n",
            "    return fit_method(estimator, *args, **kwargs)\n",
            "           ^^^^^^^^^^^^^^^^^^^^^^^^^^^^^^^^^^^^^^\n",
            "  File \"c:\\Python312\\Lib\\site-packages\\sklearn\\linear_model\\_logistic.py\", line 1193, in fit\n",
            "    solver = _check_solver(self.solver, self.penalty, self.dual)\n",
            "             ^^^^^^^^^^^^^^^^^^^^^^^^^^^^^^^^^^^^^^^^^^^^^^^^^^^\n",
            "  File \"c:\\Python312\\Lib\\site-packages\\sklearn\\linear_model\\_logistic.py\", line 63, in _check_solver\n",
            "    raise ValueError(\n",
            "ValueError: Solver lbfgs supports only 'l2' or None penalties, got elasticnet penalty.\n",
            "\n",
            "--------------------------------------------------------------------------------\n",
            "100 fits failed with the following error:\n",
            "Traceback (most recent call last):\n",
            "  File \"c:\\Python312\\Lib\\site-packages\\sklearn\\model_selection\\_validation.py\", line 866, in _fit_and_score\n",
            "    estimator.fit(X_train, y_train, **fit_params)\n",
            "  File \"c:\\Python312\\Lib\\site-packages\\sklearn\\base.py\", line 1389, in wrapper\n",
            "    return fit_method(estimator, *args, **kwargs)\n",
            "           ^^^^^^^^^^^^^^^^^^^^^^^^^^^^^^^^^^^^^^\n",
            "  File \"c:\\Python312\\Lib\\site-packages\\sklearn\\linear_model\\_logistic.py\", line 1203, in fit\n",
            "    raise ValueError(\"l1_ratio must be specified when penalty is elasticnet.\")\n",
            "ValueError: l1_ratio must be specified when penalty is elasticnet.\n",
            "\n",
            "--------------------------------------------------------------------------------\n",
            "100 fits failed with the following error:\n",
            "Traceback (most recent call last):\n",
            "  File \"c:\\Python312\\Lib\\site-packages\\sklearn\\model_selection\\_validation.py\", line 866, in _fit_and_score\n",
            "    estimator.fit(X_train, y_train, **fit_params)\n",
            "  File \"c:\\Python312\\Lib\\site-packages\\sklearn\\base.py\", line 1389, in wrapper\n",
            "    return fit_method(estimator, *args, **kwargs)\n",
            "           ^^^^^^^^^^^^^^^^^^^^^^^^^^^^^^^^^^^^^^\n",
            "  File \"c:\\Python312\\Lib\\site-packages\\sklearn\\linear_model\\_logistic.py\", line 1193, in fit\n",
            "    solver = _check_solver(self.solver, self.penalty, self.dual)\n",
            "             ^^^^^^^^^^^^^^^^^^^^^^^^^^^^^^^^^^^^^^^^^^^^^^^^^^^\n",
            "  File \"c:\\Python312\\Lib\\site-packages\\sklearn\\linear_model\\_logistic.py\", line 76, in _check_solver\n",
            "    raise ValueError(\"penalty=None is not supported for the liblinear solver\")\n",
            "ValueError: penalty=None is not supported for the liblinear solver\n",
            "\n",
            "  warnings.warn(some_fits_failed_message, FitFailedWarning)\n",
            "c:\\Python312\\Lib\\site-packages\\sklearn\\model_selection\\_search.py:1108: UserWarning: One or more of the test scores are non-finite: [0.78239541        nan 0.78071562 0.78508367 0.78508367 0.78508367\n",
            "        nan        nan        nan        nan 0.78844332 0.78855531\n",
            " 0.78228343        nan 0.78071562 0.78508367 0.78508367 0.78508367\n",
            "        nan        nan        nan        nan 0.78844332 0.78833128\n",
            " 0.78239541        nan 0.78071562 0.78508367 0.78508367 0.78508367\n",
            "        nan        nan        nan        nan 0.78844332 0.78833128\n",
            " 0.78239541        nan 0.78071562 0.78508367 0.78508367 0.78508367\n",
            "        nan        nan        nan        nan 0.78844332 0.78833128\n",
            " 0.78788354        nan 0.78788341 0.78810738 0.78810738 0.7879954\n",
            "        nan        nan        nan        nan 0.78844332 0.78833128\n",
            " 0.78788354        nan 0.78777137 0.78810738 0.78810738 0.7879954\n",
            "        nan        nan        nan        nan 0.78844332 0.78833128\n",
            " 0.78788354        nan 0.78777137 0.78810738 0.78810738 0.7879954\n",
            "        nan        nan        nan        nan 0.78844332 0.78833128\n",
            " 0.78788354        nan 0.78788341 0.78810738 0.78810738 0.7879954\n",
            "        nan        nan        nan        nan 0.78844332 0.78833128\n",
            " 0.78833128        nan 0.78799533 0.78866729 0.78855531 0.78855531\n",
            "        nan        nan        nan        nan 0.78844332 0.78844332\n",
            " 0.7882193         nan 0.78799533 0.78866729 0.78855531 0.78844326\n",
            "        nan        nan        nan        nan 0.78844332 0.78833128\n",
            " 0.78810731        nan 0.78799533 0.78866729 0.78855531 0.78855531\n",
            "        nan        nan        nan        nan 0.78844332 0.78833128\n",
            " 0.7882193         nan 0.78799533 0.78866729 0.78855531 0.78844326\n",
            "        nan        nan        nan        nan 0.78844332 0.78833128\n",
            " 0.78855531        nan 0.78855531 0.78844332 0.78844332 0.78844326\n",
            "        nan        nan        nan        nan 0.78844332 0.78833128\n",
            " 0.78855531        nan 0.78855531 0.78844332 0.78844332 0.78844326\n",
            "        nan        nan        nan        nan 0.78844332 0.78833128\n",
            " 0.78855531        nan 0.78844332 0.78844332 0.78844332 0.78844326\n",
            "        nan        nan        nan        nan 0.78844332 0.78833128\n",
            " 0.78855531        nan 0.78844332 0.78844332 0.78844332 0.78844326\n",
            "        nan        nan        nan        nan 0.78844332 0.78833128\n",
            " 0.78833128        nan 0.78833128 0.78844332 0.78844332 0.78833128\n",
            "        nan        nan        nan        nan 0.78844332 0.78833128\n",
            " 0.78833128        nan 0.78833128 0.78844332 0.78844332 0.78844326\n",
            "        nan        nan        nan        nan 0.78844332 0.78833128\n",
            " 0.78833128        nan 0.78833128 0.78844332 0.78844332 0.78833128\n",
            "        nan        nan        nan        nan 0.78844332 0.78833128\n",
            " 0.78833128        nan 0.78833128 0.78844332 0.78844332 0.78833128\n",
            "        nan        nan        nan        nan 0.78844332 0.78833128]\n",
            "  warnings.warn(\n"
          ]
        }
      ],
      "source": [
        "from sklearn.model_selection import GridSearchCV\n",
        "from sklearn.linear_model import LogisticRegression\n",
        "\n",
        "# Define hyperparameter grid\n",
        "param_grid = {\n",
        "    'C': [0.01, 0.1, 1, 10, 100],\n",
        "    'penalty': ['l1', 'l2', 'elasticnet', None],  # 'none' should be None\n",
        "    'solver': ['liblinear', 'lbfgs', 'saga'],\n",
        "    'max_iter': [100, 300, 500, 1000]\n",
        "}\n",
        "\n",
        "# Remove incompatible (penalty, solver) pairs\n",
        "valid_combinations = []\n",
        "for params in [\n",
        "    {'solver': 'liblinear', 'penalty': ['l1', 'l2']},\n",
        "    {'solver': 'lbfgs', 'penalty': ['l2', None]},\n",
        "    {'solver': 'saga', 'penalty': ['l1', 'l2', 'elasticnet', None]}\n",
        "]:\n",
        "    for p in params['penalty']:\n",
        "        valid_combinations.append({'solver': params['solver'], 'penalty': p})\n",
        "\n",
        "# Perform GridSearchCV\n",
        "grid_search = GridSearchCV(LogisticRegression(), param_grid, cv=5, scoring='accuracy', n_jobs=-1)\n",
        "grid_search.fit(X_train, y_train)\n",
        "\n",
        "# Print best parameters\n",
        "print(\"Best Parameters:\", grid_search.best_params_)\n",
        "print(\"Best Accuracy:\", grid_search.best_score_)\n"
      ]
    },
    {
      "cell_type": "markdown",
      "metadata": {
        "id": "rYwBS8R6r_Vw"
      },
      "source": [
        "gradientboosting classifiermodel 2"
      ]
    },
    {
      "cell_type": "code",
      "execution_count": 86,
      "metadata": {},
      "outputs": [
        {
          "name": "stdout",
          "output_type": "stream",
          "text": [
            "Accuracy on training set: 0.8533990368462314\n",
            "Classification Report on training set:\n",
            "              precision    recall  f1-score   support\n",
            "\n",
            "           0       0.87      0.84      0.86      4707\n",
            "           1       0.83      0.86      0.85      4222\n",
            "\n",
            "    accuracy                           0.85      8929\n",
            "   macro avg       0.85      0.85      0.85      8929\n",
            "weighted avg       0.85      0.85      0.85      8929\n",
            "\n",
            "Accuracy on test set: 0.8204209583519928\n",
            "Classification Report on test set:\n",
            "              precision    recall  f1-score   support\n",
            "\n",
            "           0       0.84      0.81      0.82      1166\n",
            "           1       0.80      0.84      0.82      1067\n",
            "\n",
            "    accuracy                           0.82      2233\n",
            "   macro avg       0.82      0.82      0.82      2233\n",
            "weighted avg       0.82      0.82      0.82      2233\n",
            "\n"
          ]
        }
      ],
      "source": [
        "from sklearn.ensemble import GradientBoostingClassifier\n",
        "from sklearn.metrics import accuracy_score, classification_report\n",
        "\n",
        "# Initialize the Gradient Boosting Classifier\n",
        "gb_clf = GradientBoostingClassifier(random_state=42)\n",
        "\n",
        "# Train the model\n",
        "gb_clf.fit(X_train, y_train)\n",
        "\n",
        "# Make predictions\n",
        "y_train_pred = gb_clf.predict(X_train)\n",
        "y_test_pred = gb_clf.predict(X_test)\n",
        "\n",
        "# Evaluate the model's performance on the training set\n",
        "train_accuracy = accuracy_score(y_train, y_train_pred)\n",
        "train_class_report = classification_report(y_train, y_train_pred)\n",
        "\n",
        "# Evaluate the model's performance on the test set\n",
        "test_accuracy = accuracy_score(y_test, y_test_pred)\n",
        "test_class_report = classification_report(y_test, y_test_pred)\n",
        "\n",
        "# Print the results\n",
        "print(f'Accuracy on training set: {train_accuracy}')\n",
        "print(f'Classification Report on training set:\\n{train_class_report}')\n",
        "\n",
        "\n",
        "print(f'Accuracy on test set: {test_accuracy}')\n",
        "print(f'Classification Report on test set:\\n{test_class_report}')"
      ]
    },
    {
      "cell_type": "code",
      "execution_count": 87,
      "metadata": {
        "id": "EXEKlEHTUHNv"
      },
      "outputs": [
        {
          "name": "stdout",
          "output_type": "stream",
          "text": [
            "Best Parameters: {'learning_rate': 0.1, 'max_depth': 6, 'n_estimators': 200}\n",
            "Best Accuracy: 0.8499268822870694\n"
          ]
        }
      ],
      "source": [
        "from sklearn.ensemble import GradientBoostingClassifier\n",
        "from sklearn.model_selection import GridSearchCV\n",
        "\n",
        "# Define hyperparameter grid\n",
        "param_grid = {\n",
        "    'n_estimators': [50, 100, 200],  # Number of trees\n",
        "    'learning_rate': [0.01, 0.05, 0.1, 0.2],  # Step size shrinkage\n",
        "    'max_depth': [3, 4, 5, 6],  # Tree depth\n",
        "}\n",
        "\n",
        "# Initialize GradientBoostingClassifier\n",
        "gb_clf = GradientBoostingClassifier(random_state=42)\n",
        "\n",
        "# Perform Grid Search with Cross Validation (cv=5)\n",
        "grid_search = GridSearchCV(gb_clf, param_grid, cv=5, scoring='accuracy', n_jobs=-1)\n",
        "grid_search.fit(X_train, y_train)\n",
        "\n",
        "# Best parameters & score\n",
        "print(\"Best Parameters:\", grid_search.best_params_)\n",
        "print(\"Best Accuracy:\", grid_search.best_score_)\n"
      ]
    },
    {
      "cell_type": "markdown",
      "metadata": {},
      "source": [
        "Gradient Boosting Classifier (GBC) is better than Linear Regression for classification because it captures non-linear relationships, provides higher accuracy, and corrects errors iteratively. GBC also ranks feature importance, handles missing data, and works well with imbalanced datasets. In contrast, Linear Regression assumes a linear relationship and isn't meant for classification. For classification tasks, GBC is more powerful, flexible, and accurate."
      ]
    },
    {
      "cell_type": "markdown",
      "metadata": {
        "id": "O_0Kty8usknK"
      },
      "source": [
        "# feature selection"
      ]
    },
    {
      "cell_type": "markdown",
      "metadata": {
        "id": "_TelB7hJx22x"
      },
      "source": [
        "Model-*2*"
      ]
    },
    {
      "cell_type": "markdown",
      "metadata": {
        "id": "LD3vSgAV03Sk"
      },
      "source": [
        "Hyperparameter Tuning for SelectKBest (Mutual Information)"
      ]
    },
    {
      "cell_type": "code",
      "execution_count": 88,
      "metadata": {
        "id": "ZJlTUy_69JYu"
      },
      "outputs": [
        {
          "name": "stderr",
          "output_type": "stream",
          "text": [
            "c:\\Python312\\Lib\\site-packages\\sklearn\\linear_model\\_logistic.py:465: ConvergenceWarning: lbfgs failed to converge (status=1):\n",
            "STOP: TOTAL NO. of ITERATIONS REACHED LIMIT.\n",
            "\n",
            "Increase the number of iterations (max_iter) or scale the data as shown in:\n",
            "    https://scikit-learn.org/stable/modules/preprocessing.html\n",
            "Please also refer to the documentation for alternative solver options:\n",
            "    https://scikit-learn.org/stable/modules/linear_model.html#logistic-regression\n",
            "  n_iter_i = _check_optimize_result(\n",
            "c:\\Python312\\Lib\\site-packages\\sklearn\\linear_model\\_logistic.py:465: ConvergenceWarning: lbfgs failed to converge (status=1):\n",
            "STOP: TOTAL NO. of ITERATIONS REACHED LIMIT.\n",
            "\n",
            "Increase the number of iterations (max_iter) or scale the data as shown in:\n",
            "    https://scikit-learn.org/stable/modules/preprocessing.html\n",
            "Please also refer to the documentation for alternative solver options:\n",
            "    https://scikit-learn.org/stable/modules/linear_model.html#logistic-regression\n",
            "  n_iter_i = _check_optimize_result(\n",
            "c:\\Python312\\Lib\\site-packages\\sklearn\\linear_model\\_logistic.py:465: ConvergenceWarning: lbfgs failed to converge (status=1):\n",
            "STOP: TOTAL NO. of ITERATIONS REACHED LIMIT.\n",
            "\n",
            "Increase the number of iterations (max_iter) or scale the data as shown in:\n",
            "    https://scikit-learn.org/stable/modules/preprocessing.html\n",
            "Please also refer to the documentation for alternative solver options:\n",
            "    https://scikit-learn.org/stable/modules/linear_model.html#logistic-regression\n",
            "  n_iter_i = _check_optimize_result(\n",
            "c:\\Python312\\Lib\\site-packages\\sklearn\\linear_model\\_logistic.py:465: ConvergenceWarning: lbfgs failed to converge (status=1):\n",
            "STOP: TOTAL NO. of ITERATIONS REACHED LIMIT.\n",
            "\n",
            "Increase the number of iterations (max_iter) or scale the data as shown in:\n",
            "    https://scikit-learn.org/stable/modules/preprocessing.html\n",
            "Please also refer to the documentation for alternative solver options:\n",
            "    https://scikit-learn.org/stable/modules/linear_model.html#logistic-regression\n",
            "  n_iter_i = _check_optimize_result(\n",
            "c:\\Python312\\Lib\\site-packages\\sklearn\\linear_model\\_logistic.py:465: ConvergenceWarning: lbfgs failed to converge (status=1):\n",
            "STOP: TOTAL NO. of ITERATIONS REACHED LIMIT.\n",
            "\n",
            "Increase the number of iterations (max_iter) or scale the data as shown in:\n",
            "    https://scikit-learn.org/stable/modules/preprocessing.html\n",
            "Please also refer to the documentation for alternative solver options:\n",
            "    https://scikit-learn.org/stable/modules/linear_model.html#logistic-regression\n",
            "  n_iter_i = _check_optimize_result(\n"
          ]
        },
        {
          "name": "stdout",
          "output_type": "stream",
          "text": [
            "Selected Features: ['housing', 'loan', 'job_retired', 'job_student']\n"
          ]
        }
      ],
      "source": [
        "import numpy as np\n",
        "import pandas as pd\n",
        "import matplotlib.pyplot as plt\n",
        "import seaborn as sns\n",
        "from sklearn.feature_selection import RFE\n",
        "from sklearn.linear_model import LogisticRegression\n",
        "\n",
        "# Initialize base model for RFE (Logistic Regression)\n",
        "rfe_model = LogisticRegression(max_iter=500)\n",
        "\n",
        "# Perform Recursive Feature Elimination (RFE)\n",
        "rfe = RFE(estimator=rfe_model, n_features_to_select=4)  # Select top 4 features\n",
        "rfe.fit(X, y)\n",
        "\n",
        "# Store original feature names before transformations\n",
        "feature_names = X.columns  # Ensure you are using original feature names\n",
        "\n",
        "# Get rankings of features\n",
        "feature_ranking = rfe.ranking_\n",
        "selected_features = [feature_names[i] for i in range(len(feature_names)) if rfe.support_[i]]\n",
        "\n",
        "print(\"Selected Features:\", selected_features)\n",
        "\n"
      ]
    },
    {
      "cell_type": "code",
      "execution_count": 89,
      "metadata": {
        "id": "4lgcS5KV9n-I"
      },
      "outputs": [
        {
          "data": {
            "text/html": [
              "<div>\n",
              "<style scoped>\n",
              "    .dataframe tbody tr th:only-of-type {\n",
              "        vertical-align: middle;\n",
              "    }\n",
              "\n",
              "    .dataframe tbody tr th {\n",
              "        vertical-align: top;\n",
              "    }\n",
              "\n",
              "    .dataframe thead th {\n",
              "        text-align: right;\n",
              "    }\n",
              "</style>\n",
              "<table border=\"1\" class=\"dataframe\">\n",
              "  <thead>\n",
              "    <tr style=\"text-align: right;\">\n",
              "      <th></th>\n",
              "      <th>Feature</th>\n",
              "      <th>Ranking</th>\n",
              "      <th>Selected</th>\n",
              "    </tr>\n",
              "  </thead>\n",
              "  <tbody>\n",
              "    <tr>\n",
              "      <th>4</th>\n",
              "      <td>housing</td>\n",
              "      <td>1</td>\n",
              "      <td>True</td>\n",
              "    </tr>\n",
              "    <tr>\n",
              "      <th>5</th>\n",
              "      <td>loan</td>\n",
              "      <td>1</td>\n",
              "      <td>True</td>\n",
              "    </tr>\n",
              "    <tr>\n",
              "      <th>20</th>\n",
              "      <td>job_student</td>\n",
              "      <td>1</td>\n",
              "      <td>True</td>\n",
              "    </tr>\n",
              "    <tr>\n",
              "      <th>17</th>\n",
              "      <td>job_retired</td>\n",
              "      <td>1</td>\n",
              "      <td>True</td>\n",
              "    </tr>\n",
              "    <tr>\n",
              "      <th>2</th>\n",
              "      <td>default</td>\n",
              "      <td>2</td>\n",
              "      <td>False</td>\n",
              "    </tr>\n",
              "    <tr>\n",
              "      <th>25</th>\n",
              "      <td>contact_telephone</td>\n",
              "      <td>3</td>\n",
              "      <td>False</td>\n",
              "    </tr>\n",
              "    <tr>\n",
              "      <th>24</th>\n",
              "      <td>education_tertiary</td>\n",
              "      <td>4</td>\n",
              "      <td>False</td>\n",
              "    </tr>\n",
              "    <tr>\n",
              "      <th>23</th>\n",
              "      <td>education_secondary</td>\n",
              "      <td>5</td>\n",
              "      <td>False</td>\n",
              "    </tr>\n",
              "    <tr>\n",
              "      <th>14</th>\n",
              "      <td>job_entrepreneur</td>\n",
              "      <td>6</td>\n",
              "      <td>False</td>\n",
              "    </tr>\n",
              "    <tr>\n",
              "      <th>15</th>\n",
              "      <td>job_housemaid</td>\n",
              "      <td>7</td>\n",
              "      <td>False</td>\n",
              "    </tr>\n",
              "    <tr>\n",
              "      <th>13</th>\n",
              "      <td>job_blue-collar</td>\n",
              "      <td>8</td>\n",
              "      <td>False</td>\n",
              "    </tr>\n",
              "    <tr>\n",
              "      <th>19</th>\n",
              "      <td>job_services</td>\n",
              "      <td>9</td>\n",
              "      <td>False</td>\n",
              "    </tr>\n",
              "    <tr>\n",
              "      <th>18</th>\n",
              "      <td>job_self-employed</td>\n",
              "      <td>10</td>\n",
              "      <td>False</td>\n",
              "    </tr>\n",
              "    <tr>\n",
              "      <th>16</th>\n",
              "      <td>job_management</td>\n",
              "      <td>11</td>\n",
              "      <td>False</td>\n",
              "    </tr>\n",
              "    <tr>\n",
              "      <th>21</th>\n",
              "      <td>job_technician</td>\n",
              "      <td>12</td>\n",
              "      <td>False</td>\n",
              "    </tr>\n",
              "    <tr>\n",
              "      <th>22</th>\n",
              "      <td>job_unemployed</td>\n",
              "      <td>13</td>\n",
              "      <td>False</td>\n",
              "    </tr>\n",
              "    <tr>\n",
              "      <th>11</th>\n",
              "      <td>previous</td>\n",
              "      <td>14</td>\n",
              "      <td>False</td>\n",
              "    </tr>\n",
              "    <tr>\n",
              "      <th>1</th>\n",
              "      <td>marital</td>\n",
              "      <td>15</td>\n",
              "      <td>False</td>\n",
              "    </tr>\n",
              "    <tr>\n",
              "      <th>9</th>\n",
              "      <td>campaign</td>\n",
              "      <td>16</td>\n",
              "      <td>False</td>\n",
              "    </tr>\n",
              "    <tr>\n",
              "      <th>12</th>\n",
              "      <td>poutcome</td>\n",
              "      <td>17</td>\n",
              "      <td>False</td>\n",
              "    </tr>\n",
              "    <tr>\n",
              "      <th>6</th>\n",
              "      <td>day</td>\n",
              "      <td>18</td>\n",
              "      <td>False</td>\n",
              "    </tr>\n",
              "    <tr>\n",
              "      <th>8</th>\n",
              "      <td>duration</td>\n",
              "      <td>19</td>\n",
              "      <td>False</td>\n",
              "    </tr>\n",
              "    <tr>\n",
              "      <th>0</th>\n",
              "      <td>age</td>\n",
              "      <td>20</td>\n",
              "      <td>False</td>\n",
              "    </tr>\n",
              "    <tr>\n",
              "      <th>7</th>\n",
              "      <td>month</td>\n",
              "      <td>21</td>\n",
              "      <td>False</td>\n",
              "    </tr>\n",
              "    <tr>\n",
              "      <th>10</th>\n",
              "      <td>pdays</td>\n",
              "      <td>22</td>\n",
              "      <td>False</td>\n",
              "    </tr>\n",
              "    <tr>\n",
              "      <th>3</th>\n",
              "      <td>balance</td>\n",
              "      <td>23</td>\n",
              "      <td>False</td>\n",
              "    </tr>\n",
              "  </tbody>\n",
              "</table>\n",
              "</div>"
            ],
            "text/plain": [
              "                Feature  Ranking  Selected\n",
              "4               housing        1      True\n",
              "5                  loan        1      True\n",
              "20          job_student        1      True\n",
              "17          job_retired        1      True\n",
              "2               default        2     False\n",
              "25    contact_telephone        3     False\n",
              "24   education_tertiary        4     False\n",
              "23  education_secondary        5     False\n",
              "14     job_entrepreneur        6     False\n",
              "15        job_housemaid        7     False\n",
              "13      job_blue-collar        8     False\n",
              "19         job_services        9     False\n",
              "18    job_self-employed       10     False\n",
              "16       job_management       11     False\n",
              "21       job_technician       12     False\n",
              "22       job_unemployed       13     False\n",
              "11             previous       14     False\n",
              "1               marital       15     False\n",
              "9              campaign       16     False\n",
              "12             poutcome       17     False\n",
              "6                   day       18     False\n",
              "8              duration       19     False\n",
              "0                   age       20     False\n",
              "7                 month       21     False\n",
              "10                pdays       22     False\n",
              "3               balance       23     False"
            ]
          },
          "execution_count": 89,
          "metadata": {},
          "output_type": "execute_result"
        }
      ],
      "source": [
        "\n",
        "ranking_df = pd.DataFrame({\n",
        "    'Feature': X.columns,\n",
        "    'Ranking': feature_ranking,\n",
        "    'Selected': rfe.support_\n",
        "})\n",
        "\n",
        "# Sort the DataFrame by ranking\n",
        "ranking_df = ranking_df.sort_values(by='Ranking')\n",
        "ranking_df"
      ]
    },
    {
      "cell_type": "markdown",
      "metadata": {},
      "source": [
        "Feature selection with SelectKBest using Mutual Information evaluates the relationship between features and the target variable. By selecting the top K features with the highest mutual information scores, we retain the most informative features. Hyperparameter tuning involves optimizing K through cross-validation to enhance model performance. The selected features are justified by their contribution to improving prediction accuracy and reducing overfitting."
      ]
    },
    {
      "cell_type": "code",
      "execution_count": 90,
      "metadata": {
        "id": "5GtREtGjuV2q"
      },
      "outputs": [
        {
          "name": "stdout",
          "output_type": "stream",
          "text": [
            "Selected Features: Index(['age', 'balance', 'housing', 'loan', 'month', 'duration', 'pdays',\n",
            "       'previous', 'poutcome', 'job_housemaid'],\n",
            "      dtype='object')\n"
          ]
        }
      ],
      "source": [
        "from sklearn.feature_selection import SelectKBest, mutual_info_classif\n",
        "from sklearn.model_selection import GridSearchCV\n",
        "from sklearn.ensemble import RandomForestClassifier\n",
        "from sklearn.pipeline import Pipeline\n",
        "\n",
        "# Define the feature selection object and a classifier\n",
        "selector = SelectKBest(score_func=mutual_info_classif)\n",
        "classifier = RandomForestClassifier()  # Example classifier, can be adjusted\n",
        "\n",
        "# Create a pipeline combining feature selection and classification\n",
        "pipeline = Pipeline([\n",
        "    ('selector', selector),\n",
        "    ('classifier', classifier)\n",
        "])\n",
        "\n",
        "# Hyperparameter tuning for 'k' (number of top features to select)\n",
        "param_grid = {'selector__k': [5, 10, 15, 20]}  # Example grid, adjust according to your dataset\n",
        "grid_search = GridSearchCV(pipeline, param_grid, cv=5, scoring='accuracy')\n",
        "\n",
        "# Fit the grid search to the training data\n",
        "grid_search.fit(X_train, y_train)\n",
        "\n",
        "# Get the best 'k' value from the grid search\n",
        "best_k = grid_search.best_params_['selector__k']\n",
        "\n",
        "# Perform feature selection using SelectKBest with the best 'k'\n",
        "selector = SelectKBest(score_func=mutual_info_classif, k=best_k)\n",
        "X_train_selected = selector.fit_transform(X_train, y_train)\n",
        "X_test_selected = selector.transform(X_test)\n",
        "\n",
        "# Print the selected features\n",
        "selected_features = X.columns[selector.get_support()]\n",
        "print(\"Selected Features:\", selected_features)\n"
      ]
    },
    {
      "cell_type": "code",
      "execution_count": 91,
      "metadata": {},
      "outputs": [
        {
          "name": "stdout",
          "output_type": "stream",
          "text": [
            "Selected Features: Index(['month', 'duration', 'poutcome'], dtype='object')\n"
          ]
        }
      ],
      "source": [
        "best_k =  3 # Example: select the top 5 features\n",
        "\n",
        "# Perform feature selection using SelectKBest\n",
        "selector = SelectKBest(score_func=mutual_info_classif, k=best_k)\n",
        "X_train_selected = selector.fit_transform(X_train, y_train)\n",
        "X_test_selected = selector.transform(X_test)\n",
        "\n",
        "# Print the selected features\n",
        "selected_features = X.columns[selector.get_support()]\n",
        "print(\"Selected Features:\", selected_features)\n"
      ]
    },
    {
      "cell_type": "code",
      "execution_count": 92,
      "metadata": {},
      "outputs": [
        {
          "name": "stdout",
          "output_type": "stream",
          "text": [
            "Final Model Accuracy on training set: 0.8223765259267555\n",
            "Final Model Classification Report on training set:\n",
            "              precision    recall  f1-score   support\n",
            "\n",
            "           0       0.84      0.82      0.83      4707\n",
            "           1       0.81      0.82      0.81      4222\n",
            "\n",
            "    accuracy                           0.82      8929\n",
            "   macro avg       0.82      0.82      0.82      8929\n",
            "weighted avg       0.82      0.82      0.82      8929\n",
            "\n",
            "Final Model Accuracy on test set: 0.8007165248544559\n",
            "Final Model Classification Report on test set:\n",
            "              precision    recall  f1-score   support\n",
            "\n",
            "           0       0.82      0.79      0.81      1166\n",
            "           1       0.78      0.81      0.80      1067\n",
            "\n",
            "    accuracy                           0.80      2233\n",
            "   macro avg       0.80      0.80      0.80      2233\n",
            "weighted avg       0.80      0.80      0.80      2233\n",
            "\n"
          ]
        }
      ],
      "source": [
        "# Initialize the final model as Gradient Boosting Classifier\n",
        "final_model = GradientBoostingClassifier(random_state=42)\n",
        "\n",
        "# Train the final model on the selected features\n",
        "final_model.fit(X_train_selected, y_train)\n",
        "\n",
        "# Make predictions on the train and test sets\n",
        "final_y_train_pred = final_model.predict(X_train_selected)\n",
        "final_y_test_pred = final_model.predict(X_test_selected)\n",
        "\n",
        "# Evaluate the final model's performance\n",
        "final_train_accuracy = accuracy_score(y_train, final_y_train_pred)\n",
        "final_train_class_report = classification_report(y_train, final_y_train_pred)\n",
        "final_test_accuracy = accuracy_score(y_test, final_y_test_pred)\n",
        "final_test_class_report = classification_report(y_test, final_y_test_pred)\n",
        "\n",
        "# Print the results\n",
        "print(f'Final Model Accuracy on training set: {final_train_accuracy}')\n",
        "print(f'Final Model Classification Report on training set:\\n{final_train_class_report}')\n",
        "print(f'Final Model Accuracy on test set: {final_test_accuracy}')\n",
        "print(f'Final Model Classification Report on test set:\\n{final_test_class_report}')\n"
      ]
    }
  ],
  "metadata": {
    "colab": {
      "provenance": []
    },
    "kernelspec": {
      "display_name": "Python 3",
      "name": "python3"
    },
    "language_info": {
      "codemirror_mode": {
        "name": "ipython",
        "version": 3
      },
      "file_extension": ".py",
      "mimetype": "text/x-python",
      "name": "python",
      "nbconvert_exporter": "python",
      "pygments_lexer": "ipython3",
      "version": "3.12.3"
    }
  },
  "nbformat": 4,
  "nbformat_minor": 0
}
