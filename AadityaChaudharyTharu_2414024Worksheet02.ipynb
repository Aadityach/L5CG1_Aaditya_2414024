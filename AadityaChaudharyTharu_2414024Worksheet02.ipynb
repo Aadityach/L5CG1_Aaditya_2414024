{
  "nbformat": 4,
  "nbformat_minor": 0,
  "metadata": {
    "colab": {
      "provenance": []
    },
    "kernelspec": {
      "name": "python3",
      "display_name": "Python 3"
    },
    "language_info": {
      "name": "python"
    }
  },
  "cells": [
    {
      "cell_type": "code",
      "execution_count": null,
      "metadata": {
        "id": "yj-EkwoDMxSp"
      },
      "outputs": [],
      "source": [
        ""
      ]
    },
    {
      "cell_type": "code",
      "source": [
        "from google.colab import drive\n",
        "drive.mount('/content/drive')"
      ],
      "metadata": {
        "id": "WmoO6bYkNEif",
        "colab": {
          "base_uri": "https://localhost:8080/"
        },
        "outputId": "14023391-afda-4938-95fa-547e2f62af2b"
      },
      "execution_count": null,
      "outputs": [
        {
          "output_type": "stream",
          "name": "stdout",
          "text": [
            "Drive already mounted at /content/drive; to attempt to forcibly remount, call drive.mount(\"/content/drive\", force_remount=True).\n"
          ]
        }
      ]
    },
    {
      "cell_type": "markdown",
      "source": [
        "Q1."
      ],
      "metadata": {
        "id": "K7kOdswlZTrs"
      }
    },
    {
      "cell_type": "code",
      "source": [
        "import pandas as pd\n",
        "a=pd.read_csv('/content/drive/My Drive/Datasets/bank .csv')\n",
        "print(a)\n",
        "a.info()\n"
      ],
      "metadata": {
        "colab": {
          "base_uri": "https://localhost:8080/"
        },
        "id": "o3RsUulHNGUy",
        "outputId": "d9db216e-67b7-4bc1-c0d1-87961e7930fc"
      },
      "execution_count": null,
      "outputs": [
        {
          "output_type": "stream",
          "name": "stdout",
          "text": [
            "       age           job   marital  education default  balance housing loan  \\\n",
            "0       58    management   married   tertiary      no     2143     yes   no   \n",
            "1       44    technician    single  secondary      no       29     yes   no   \n",
            "2       33  entrepreneur   married  secondary      no        2     yes  yes   \n",
            "3       47   blue-collar   married    unknown      no     1506     yes   no   \n",
            "4       33       unknown    single    unknown      no        1      no   no   \n",
            "...    ...           ...       ...        ...     ...      ...     ...  ...   \n",
            "45206   51    technician   married   tertiary      no      825      no   no   \n",
            "45207   71       retired  divorced    primary      no     1729      no   no   \n",
            "45208   72       retired   married  secondary      no     5715      no   no   \n",
            "45209   57   blue-collar   married  secondary      no      668      no   no   \n",
            "45210   37  entrepreneur   married  secondary      no     2971      no   no   \n",
            "\n",
            "         contact  day month  duration  campaign  pdays  previous poutcome    y  \n",
            "0        unknown    5   may       261         1     -1         0  unknown   no  \n",
            "1        unknown    5   may       151         1     -1         0  unknown   no  \n",
            "2        unknown    5   may        76         1     -1         0  unknown   no  \n",
            "3        unknown    5   may        92         1     -1         0  unknown   no  \n",
            "4        unknown    5   may       198         1     -1         0  unknown   no  \n",
            "...          ...  ...   ...       ...       ...    ...       ...      ...  ...  \n",
            "45206   cellular   17   nov       977         3     -1         0  unknown  yes  \n",
            "45207   cellular   17   nov       456         2     -1         0  unknown  yes  \n",
            "45208   cellular   17   nov      1127         5    184         3  success  yes  \n",
            "45209  telephone   17   nov       508         4     -1         0  unknown   no  \n",
            "45210   cellular   17   nov       361         2    188        11    other   no  \n",
            "\n",
            "[45211 rows x 17 columns]\n",
            "<class 'pandas.core.frame.DataFrame'>\n",
            "RangeIndex: 45211 entries, 0 to 45210\n",
            "Data columns (total 17 columns):\n",
            " #   Column     Non-Null Count  Dtype \n",
            "---  ------     --------------  ----- \n",
            " 0   age        45211 non-null  int64 \n",
            " 1   job        45211 non-null  object\n",
            " 2   marital    45211 non-null  object\n",
            " 3   education  45211 non-null  object\n",
            " 4   default    45211 non-null  object\n",
            " 5   balance    45211 non-null  int64 \n",
            " 6   housing    45211 non-null  object\n",
            " 7   loan       45211 non-null  object\n",
            " 8   contact    45211 non-null  object\n",
            " 9   day        45211 non-null  int64 \n",
            " 10  month      45211 non-null  object\n",
            " 11  duration   45211 non-null  int64 \n",
            " 12  campaign   45211 non-null  int64 \n",
            " 13  pdays      45211 non-null  int64 \n",
            " 14  previous   45211 non-null  int64 \n",
            " 15  poutcome   45211 non-null  object\n",
            " 16  y          45211 non-null  object\n",
            "dtypes: int64(7), object(10)\n",
            "memory usage: 5.9+ MB\n"
          ]
        }
      ]
    },
    {
      "cell_type": "markdown",
      "source": [
        "Q2.a"
      ],
      "metadata": {
        "id": "6VnUklGwZVFr"
      }
    },
    {
      "cell_type": "code",
      "source": [
        "object_columns = a.select_dtypes(include=[\"object\"]).columns\n",
        "print(\"\\nColumns with dtype=object\")\n",
        "print(object_columns)\n"
      ],
      "metadata": {
        "colab": {
          "base_uri": "https://localhost:8080/"
        },
        "id": "PFZlmq-MZZDL",
        "outputId": "454dce7e-8451-4af9-cf8f-09fa781ca23c"
      },
      "execution_count": null,
      "outputs": [
        {
          "output_type": "stream",
          "name": "stdout",
          "text": [
            "\n",
            "Columns with dtype=object\n",
            "Index(['job', 'marital', 'education', 'default', 'housing', 'loan', 'contact',\n",
            "       'month', 'poutcome', 'y'],\n",
            "      dtype='object')\n"
          ]
        }
      ]
    },
    {
      "cell_type": "markdown",
      "source": [
        "Q2.b"
      ],
      "metadata": {
        "id": "X3ufHr3qnzDT"
      }
    },
    {
      "cell_type": "code",
      "source": [
        "print(\"\\nUqique values if column with dtype =object:\")\n",
        "for col in object_columns:\n",
        "  print(f\"\\nUnique values in column'{col}:\")\n",
        "  print(a[col].unique())"
      ],
      "metadata": {
        "colab": {
          "base_uri": "https://localhost:8080/"
        },
        "id": "ZokIAFfun2nT",
        "outputId": "402eb600-f8b6-4fd4-dae3-0fe36a438a57"
      },
      "execution_count": null,
      "outputs": [
        {
          "output_type": "stream",
          "name": "stdout",
          "text": [
            "\n",
            "Uqique values if column with dtype =object:\n",
            "\n",
            "Unique values in column'job:\n",
            "['management' 'technician' 'entrepreneur' 'blue-collar' 'unknown'\n",
            " 'retired' 'admin.' 'services' 'self-employed' 'unemployed' 'housemaid'\n",
            " 'student']\n",
            "\n",
            "Unique values in column'marital:\n",
            "['married' 'single' 'divorced']\n",
            "\n",
            "Unique values in column'education:\n",
            "['tertiary' 'secondary' 'unknown' 'primary']\n",
            "\n",
            "Unique values in column'default:\n",
            "['no' 'yes']\n",
            "\n",
            "Unique values in column'housing:\n",
            "['yes' 'no']\n",
            "\n",
            "Unique values in column'loan:\n",
            "['no' 'yes']\n",
            "\n",
            "Unique values in column'contact:\n",
            "['unknown' 'cellular' 'telephone']\n",
            "\n",
            "Unique values in column'month:\n",
            "['may' 'jun' 'jul' 'aug' 'oct' 'nov' 'dec' 'jan' 'feb' 'mar' 'apr' 'sep']\n",
            "\n",
            "Unique values in column'poutcome:\n",
            "['unknown' 'failure' 'other' 'success']\n",
            "\n",
            "Unique values in column'y:\n",
            "['no' 'yes']\n"
          ]
        }
      ]
    },
    {
      "cell_type": "markdown",
      "source": [
        "Q2.c"
      ],
      "metadata": {
        "id": "0hsNPE3wofD5"
      }
    },
    {
      "cell_type": "code",
      "source": [
        "null_value=a.isnull().sum()\n",
        "print(\"\\n total nunmber of null values in each column:\")\n",
        "print(null_value)"
      ],
      "metadata": {
        "colab": {
          "base_uri": "https://localhost:8080/"
        },
        "id": "UBMyfLrQohQA",
        "outputId": "03225446-8c9b-4ead-8876-0d0d54048e53"
      },
      "execution_count": null,
      "outputs": [
        {
          "output_type": "stream",
          "name": "stdout",
          "text": [
            "\n",
            " total nunmber of null values in each column:\n",
            "age          0\n",
            "job          0\n",
            "marital      0\n",
            "education    0\n",
            "default      0\n",
            "balance      0\n",
            "housing      0\n",
            "loan         0\n",
            "contact      0\n",
            "day          0\n",
            "month        0\n",
            "duration     0\n",
            "campaign     0\n",
            "pdays        0\n",
            "previous     0\n",
            "poutcome     0\n",
            "y            0\n",
            "dtype: int64\n"
          ]
        }
      ]
    },
    {
      "cell_type": "markdown",
      "source": [
        "Q3"
      ],
      "metadata": {
        "id": "iG-Y7i9vo94O"
      }
    },
    {
      "cell_type": "code",
      "source": [
        "a_numeric = a.select_dtypes(exclude=['object'])\n",
        "print(\"Numeric DataFrame:\")\n",
        "print(a_numeric)\n",
        "a_numeric.to_csv('banknumericdata.csv', index=False)\n",
        "print(\"\\nNew DataFrame saved as 'banknumericdata.csv',\")"
      ],
      "metadata": {
        "colab": {
          "base_uri": "https://localhost:8080/"
        },
        "id": "DrTvGtXKo9n5",
        "outputId": "3bc4156d-c8ff-44dd-9f35-5ffbe1de8946"
      },
      "execution_count": null,
      "outputs": [
        {
          "output_type": "stream",
          "name": "stdout",
          "text": [
            "Numeric DataFrame:\n",
            "       age  balance  day  duration  campaign  pdays  previous\n",
            "0       58     2143    5       261         1     -1         0\n",
            "1       44       29    5       151         1     -1         0\n",
            "2       33        2    5        76         1     -1         0\n",
            "3       47     1506    5        92         1     -1         0\n",
            "4       33        1    5       198         1     -1         0\n",
            "...    ...      ...  ...       ...       ...    ...       ...\n",
            "45206   51      825   17       977         3     -1         0\n",
            "45207   71     1729   17       456         2     -1         0\n",
            "45208   72     5715   17      1127         5    184         3\n",
            "45209   57      668   17       508         4     -1         0\n",
            "45210   37     2971   17       361         2    188        11\n",
            "\n",
            "[45211 rows x 7 columns]\n",
            "\n",
            "New DataFrame saved as 'banknumericdata.csv',\n"
          ]
        }
      ]
    },
    {
      "cell_type": "markdown",
      "source": [
        "Q4"
      ],
      "metadata": {
        "id": "K-PFGSBKp-he"
      }
    },
    {
      "cell_type": "code",
      "source": [
        "a_numeric = pd.read_csv('banknumericdata.csv')\n",
        "print(f\"Summery\\n\",a_numeric.describe())"
      ],
      "metadata": {
        "colab": {
          "base_uri": "https://localhost:8080/"
        },
        "id": "4zk7anQ3p8od",
        "outputId": "ec20b52d-dad3-4e23-f707-4ba9d16fec2c"
      },
      "execution_count": null,
      "outputs": [
        {
          "output_type": "stream",
          "name": "stdout",
          "text": [
            "Summery\n",
            "                 age        balance           day      duration      campaign  \\\n",
            "count  45211.000000   45211.000000  45211.000000  45211.000000  45211.000000   \n",
            "mean      40.936210    1362.272058     15.806419    258.163080      2.763841   \n",
            "std       10.618762    3044.765829      8.322476    257.527812      3.098021   \n",
            "min       18.000000   -8019.000000      1.000000      0.000000      1.000000   \n",
            "25%       33.000000      72.000000      8.000000    103.000000      1.000000   \n",
            "50%       39.000000     448.000000     16.000000    180.000000      2.000000   \n",
            "75%       48.000000    1428.000000     21.000000    319.000000      3.000000   \n",
            "max       95.000000  102127.000000     31.000000   4918.000000     63.000000   \n",
            "\n",
            "              pdays      previous  \n",
            "count  45211.000000  45211.000000  \n",
            "mean      40.197828      0.580323  \n",
            "std      100.128746      2.303441  \n",
            "min       -1.000000      0.000000  \n",
            "25%       -1.000000      0.000000  \n",
            "50%       -1.000000      0.000000  \n",
            "75%       -1.000000      0.000000  \n",
            "max      871.000000    275.000000  \n"
          ]
        }
      ]
    },
    {
      "cell_type": "markdown",
      "source": [
        "Q2"
      ],
      "metadata": {
        "id": "9cLE8M3_BrMt"
      }
    },
    {
      "cell_type": "code",
      "source": [
        "import pandas as pd\n",
        "b=pd.read_csv('/content/drive/My Drive/Datasets/medical_students_dataset.csv')\n",
        "print(b)\n",
        "b.info()"
      ],
      "metadata": {
        "colab": {
          "base_uri": "https://localhost:8080/"
        },
        "id": "Yb-968yvBsfk",
        "outputId": "2d97cf11-1aa7-4992-98af-d5180d98b3fb"
      },
      "execution_count": null,
      "outputs": [
        {
          "output_type": "stream",
          "name": "stdout",
          "text": [
            "        Student ID   Age  Gender      Height     Weight Blood Type        BMI  \\\n",
            "0              1.0  18.0  Female  161.777924  72.354947          O  27.645835   \n",
            "1              2.0   NaN    Male  152.069157  47.630941          B        NaN   \n",
            "2              3.0  32.0  Female  182.537664  55.741083          A  16.729017   \n",
            "3              NaN  30.0    Male  182.112867  63.332207          B  19.096042   \n",
            "4              5.0  23.0  Female         NaN  46.234173          O        NaN   \n",
            "...            ...   ...     ...         ...        ...        ...        ...   \n",
            "199995         NaN  24.0    Male  176.503260  95.756997          B  30.737254   \n",
            "199996     99997.0  29.0  Female  163.917675  45.225194        NaN  16.831734   \n",
            "199997     99998.0  34.0  Female         NaN  99.648914        NaN  33.189303   \n",
            "199998     99999.0  30.0  Female  156.446944  50.142824          A  20.486823   \n",
            "199999    100000.0  20.0  Female  153.927409  99.928405          O  42.175189   \n",
            "\n",
            "        Temperature  Heart Rate  Blood Pressure  Cholesterol Diabetes Smoking  \n",
            "0               NaN        95.0           109.0        203.0       No     NaN  \n",
            "1         98.714977        93.0           104.0        163.0       No      No  \n",
            "2         98.260293        76.0           130.0        216.0      Yes      No  \n",
            "3         98.839605        99.0           112.0        141.0       No     Yes  \n",
            "4         98.480008        95.0             NaN        231.0       No      No  \n",
            "...             ...         ...             ...          ...      ...     ...  \n",
            "199995    99.170685        65.0           121.0        130.0       No      No  \n",
            "199996    97.865785        62.0           125.0        198.0       No     Yes  \n",
            "199997    98.768210        60.0            90.0        154.0      NaN      No  \n",
            "199998    98.994212        61.0           106.0        225.0       No      No  \n",
            "199999    98.595817        95.0           133.0        132.0      NaN      No  \n",
            "\n",
            "[200000 rows x 13 columns]\n",
            "<class 'pandas.core.frame.DataFrame'>\n",
            "RangeIndex: 200000 entries, 0 to 199999\n",
            "Data columns (total 13 columns):\n",
            " #   Column          Non-Null Count   Dtype  \n",
            "---  ------          --------------   -----  \n",
            " 0   Student ID      180000 non-null  float64\n",
            " 1   Age             180000 non-null  float64\n",
            " 2   Gender          180000 non-null  object \n",
            " 3   Height          180000 non-null  float64\n",
            " 4   Weight          180000 non-null  float64\n",
            " 5   Blood Type      180000 non-null  object \n",
            " 6   BMI             180000 non-null  float64\n",
            " 7   Temperature     180000 non-null  float64\n",
            " 8   Heart Rate      180000 non-null  float64\n",
            " 9   Blood Pressure  180000 non-null  float64\n",
            " 10  Cholesterol     180000 non-null  float64\n",
            " 11  Diabetes        180000 non-null  object \n",
            " 12  Smoking         180000 non-null  object \n",
            "dtypes: float64(9), object(4)\n",
            "memory usage: 19.8+ MB\n"
          ]
        }
      ]
    },
    {
      "cell_type": "markdown",
      "source": [
        "Problem 2"
      ],
      "metadata": {
        "id": "quf5C0OLDiO1"
      }
    },
    {
      "cell_type": "code",
      "source": [
        "#Q1\n",
        "print(\"--- DataFrame Info ---\")\n",
        "b.info()\n"
      ],
      "metadata": {
        "colab": {
          "base_uri": "https://localhost:8080/"
        },
        "id": "ISKAcr1XDh5w",
        "outputId": "7ebfa2bf-88c2-461a-890b-6e1aeb8d5bc7"
      },
      "execution_count": null,
      "outputs": [
        {
          "output_type": "stream",
          "name": "stdout",
          "text": [
            "--- DataFrame Info ---\n",
            "<class 'pandas.core.frame.DataFrame'>\n",
            "RangeIndex: 200000 entries, 0 to 199999\n",
            "Data columns (total 13 columns):\n",
            " #   Column          Non-Null Count   Dtype  \n",
            "---  ------          --------------   -----  \n",
            " 0   Student ID      180000 non-null  float64\n",
            " 1   Age             180000 non-null  float64\n",
            " 2   Gender          180000 non-null  object \n",
            " 3   Height          180000 non-null  float64\n",
            " 4   Weight          180000 non-null  float64\n",
            " 5   Blood Type      180000 non-null  object \n",
            " 6   BMI             180000 non-null  float64\n",
            " 7   Temperature     180000 non-null  float64\n",
            " 8   Heart Rate      180000 non-null  float64\n",
            " 9   Blood Pressure  180000 non-null  float64\n",
            " 10  Cholesterol     180000 non-null  float64\n",
            " 11  Diabetes        180000 non-null  object \n",
            " 12  Smoking         180000 non-null  object \n",
            "dtypes: float64(9), object(4)\n",
            "memory usage: 19.8+ MB\n"
          ]
        }
      ]
    },
    {
      "cell_type": "markdown",
      "source": [
        "Q2"
      ],
      "metadata": {
        "id": "ynIIs19WDusG"
      }
    },
    {
      "cell_type": "code",
      "source": [
        "missing_values = b.isnull().sum()\n",
        "print(\"\\n--- Columns with Missing Values ---\")\n",
        "print(missing_values[missing_values > 0])"
      ],
      "metadata": {
        "colab": {
          "base_uri": "https://localhost:8080/"
        },
        "id": "NrM0Wr5gDvoj",
        "outputId": "30fe324a-1896-4db5-a07b-9964a934104a"
      },
      "execution_count": null,
      "outputs": [
        {
          "output_type": "stream",
          "name": "stdout",
          "text": [
            "\n",
            "--- Columns with Missing Values ---\n",
            "Student ID        20000\n",
            "Age               20000\n",
            "Gender            20000\n",
            "Height            20000\n",
            "Weight            20000\n",
            "Blood Type        20000\n",
            "BMI               20000\n",
            "Temperature       20000\n",
            "Heart Rate        20000\n",
            "Blood Pressure    20000\n",
            "Cholesterol       20000\n",
            "Diabetes          20000\n",
            "Smoking           20000\n",
            "dtype: int64\n"
          ]
        }
      ]
    },
    {
      "cell_type": "markdown",
      "source": [
        "Q3"
      ],
      "metadata": {
        "id": "i__X1p89DzWp"
      }
    },
    {
      "cell_type": "code",
      "source": [
        "if 'Age' in b.columns and b['Age'].isnull().sum() > 0:\n",
        "    b['Age'].fillna(b['Age'].mean(), inplace=True)  # Filling numerical column with mean\n",
        "    print(\"Filled missing 'Age' values with mean.\")\n",
        "\n",
        "if 'Gender' in b.columns and b['Gender'].isnull().sum() > 0:\n",
        "    b['Gender'].fillna(b['Gender'].mode()[0], inplace=True)  # Filling categorical column with mode\n",
        "    print(\"Filled missing 'Gender' values with mode.\")\n"
      ],
      "metadata": {
        "colab": {
          "base_uri": "https://localhost:8080/"
        },
        "id": "7dPMZSj7FdiA",
        "outputId": "0d1e0522-ddfb-4f38-cf95-97184d062f56"
      },
      "execution_count": null,
      "outputs": [
        {
          "output_type": "stream",
          "name": "stdout",
          "text": [
            "Filled missing 'Age' values with mean.\n",
            "Filled missing 'Gender' values with mode.\n"
          ]
        },
        {
          "output_type": "stream",
          "name": "stderr",
          "text": [
            "<ipython-input-20-db48d1ccb7fb>:2: FutureWarning: A value is trying to be set on a copy of a DataFrame or Series through chained assignment using an inplace method.\n",
            "The behavior will change in pandas 3.0. This inplace method will never work because the intermediate object on which we are setting values always behaves as a copy.\n",
            "\n",
            "For example, when doing 'df[col].method(value, inplace=True)', try using 'df.method({col: value}, inplace=True)' or df[col] = df[col].method(value) instead, to perform the operation inplace on the original object.\n",
            "\n",
            "\n",
            "  b['Age'].fillna(b['Age'].mean(), inplace=True)  # Filling numerical column with mean\n",
            "<ipython-input-20-db48d1ccb7fb>:6: FutureWarning: A value is trying to be set on a copy of a DataFrame or Series through chained assignment using an inplace method.\n",
            "The behavior will change in pandas 3.0. This inplace method will never work because the intermediate object on which we are setting values always behaves as a copy.\n",
            "\n",
            "For example, when doing 'df[col].method(value, inplace=True)', try using 'df.method({col: value}, inplace=True)' or df[col] = df[col].method(value) instead, to perform the operation inplace on the original object.\n",
            "\n",
            "\n",
            "  b['Gender'].fillna(b['Gender'].mode()[0], inplace=True)  # Filling categorical column with mode\n"
          ]
        }
      ]
    },
    {
      "cell_type": "markdown",
      "source": [
        "Ease of implementation: Using mean and mode is computationally straightforward and requires minimal preprocessing.\n",
        "Preservation of data characteristics: These imputation techniques align with the characteristics of the respective data types, ensuring the dataset remains meaningful and statistically coherent."
      ],
      "metadata": {
        "id": "KtcCxMadHoFT"
      }
    },
    {
      "cell_type": "markdown",
      "source": [
        "Q4"
      ],
      "metadata": {
        "id": "MRaPmMoOHq8m"
      }
    },
    {
      "cell_type": "code",
      "source": [
        "duplicates_count = b.duplicated().sum()\n",
        "print(f\"\\n--- Duplicate Values ---\\nNumber of duplicates: {duplicates_count}\")\n",
        "\n",
        "# Remove duplicates if present\n",
        "if duplicates_count > 0:\n",
        "    b = b.drop_duplicates()\n",
        "    print(\"Duplicates removed.\")\n",
        "\n",
        "# Save the cleaned dataset to a new file\n",
        "b.to_csv(\"medical_student_cleaned.csv\", index=False)\n",
        "print(\"Cleaned dataset saved as 'medical_student_cleaned.csv'.\")"
      ],
      "metadata": {
        "colab": {
          "base_uri": "https://localhost:8080/"
        },
        "id": "oW3ReVsTHx0X",
        "outputId": "419475e1-6691-402d-f9da-ebbdbca2cb10"
      },
      "execution_count": null,
      "outputs": [
        {
          "output_type": "stream",
          "name": "stdout",
          "text": [
            "\n",
            "--- Duplicate Values ---\n",
            "Number of duplicates: 8506\n",
            "Duplicates removed.\n",
            "Cleaned dataset saved as 'medical_student_cleaned.csv'.\n"
          ]
        }
      ]
    },
    {
      "cell_type": "markdown",
      "source": [
        "3.2 Exercises - Data Cleaning and Transformations with ”Titanic Dataset”:"
      ],
      "metadata": {
        "id": "zk7aTFc9IETU"
      }
    },
    {
      "cell_type": "code",
      "source": [
        "import pandas as pd\n",
        "d=pd.read_csv('/content/drive/My Drive/Datasets/Titanic-Dataset.csv')\n",
        "print(d)\n",
        "d.info()\n"
      ],
      "metadata": {
        "colab": {
          "base_uri": "https://localhost:8080/"
        },
        "id": "n1pNEh9kIpCv",
        "outputId": "2342d08a-77b0-4153-bd42-022e992be725"
      },
      "execution_count": 59,
      "outputs": [
        {
          "output_type": "stream",
          "name": "stdout",
          "text": [
            "     PassengerId  Survived  Pclass  \\\n",
            "0              1         0       3   \n",
            "1              2         1       1   \n",
            "2              3         1       3   \n",
            "3              4         1       1   \n",
            "4              5         0       3   \n",
            "..           ...       ...     ...   \n",
            "886          887         0       2   \n",
            "887          888         1       1   \n",
            "888          889         0       3   \n",
            "889          890         1       1   \n",
            "890          891         0       3   \n",
            "\n",
            "                                                  Name     Sex   Age  SibSp  \\\n",
            "0                              Braund, Mr. Owen Harris    male  22.0      1   \n",
            "1    Cumings, Mrs. John Bradley (Florence Briggs Th...  female  38.0      1   \n",
            "2                               Heikkinen, Miss. Laina  female  26.0      0   \n",
            "3         Futrelle, Mrs. Jacques Heath (Lily May Peel)  female  35.0      1   \n",
            "4                             Allen, Mr. William Henry    male  35.0      0   \n",
            "..                                                 ...     ...   ...    ...   \n",
            "886                              Montvila, Rev. Juozas    male  27.0      0   \n",
            "887                       Graham, Miss. Margaret Edith  female  19.0      0   \n",
            "888           Johnston, Miss. Catherine Helen \"Carrie\"  female   NaN      1   \n",
            "889                              Behr, Mr. Karl Howell    male  26.0      0   \n",
            "890                                Dooley, Mr. Patrick    male  32.0      0   \n",
            "\n",
            "     Parch            Ticket     Fare Cabin Embarked  \n",
            "0        0         A/5 21171   7.2500   NaN        S  \n",
            "1        0          PC 17599  71.2833   C85        C  \n",
            "2        0  STON/O2. 3101282   7.9250   NaN        S  \n",
            "3        0            113803  53.1000  C123        S  \n",
            "4        0            373450   8.0500   NaN        S  \n",
            "..     ...               ...      ...   ...      ...  \n",
            "886      0            211536  13.0000   NaN        S  \n",
            "887      0            112053  30.0000   B42        S  \n",
            "888      2        W./C. 6607  23.4500   NaN        S  \n",
            "889      0            111369  30.0000  C148        C  \n",
            "890      0            370376   7.7500   NaN        Q  \n",
            "\n",
            "[891 rows x 12 columns]\n",
            "<class 'pandas.core.frame.DataFrame'>\n",
            "RangeIndex: 891 entries, 0 to 890\n",
            "Data columns (total 12 columns):\n",
            " #   Column       Non-Null Count  Dtype  \n",
            "---  ------       --------------  -----  \n",
            " 0   PassengerId  891 non-null    int64  \n",
            " 1   Survived     891 non-null    int64  \n",
            " 2   Pclass       891 non-null    int64  \n",
            " 3   Name         891 non-null    object \n",
            " 4   Sex          891 non-null    object \n",
            " 5   Age          714 non-null    float64\n",
            " 6   SibSp        891 non-null    int64  \n",
            " 7   Parch        891 non-null    int64  \n",
            " 8   Ticket       891 non-null    object \n",
            " 9   Fare         891 non-null    float64\n",
            " 10  Cabin        204 non-null    object \n",
            " 11  Embarked     889 non-null    object \n",
            "dtypes: float64(2), int64(5), object(5)\n",
            "memory usage: 83.7+ KB\n"
          ]
        }
      ]
    },
    {
      "cell_type": "code",
      "source": [
        "# 2. Create a subset DataFrame with specific columns\n",
        "titanic_subset = d[['Name', 'Pclass', 'Sex', 'Age', 'Fare', 'Survived']]\n",
        "\n",
        "# Retain only rows where 'Pclass' equals 1 (first-class passengers)\n",
        "first_class_passengers = titanic_subset[titanic_subset['Pclass'] == 1]\n",
        "\n",
        "# Calculate statistics for the 'Fare' column\n",
        "mean_fare = first_class_passengers['Fare'].mean()\n",
        "median_fare = first_class_passengers['Fare'].median()\n",
        "max_fare = first_class_passengers['Fare'].max()\n",
        "min_fare = first_class_passengers['Fare'].min()\n",
        "\n",
        "# Print results\n",
        "print(f\"Mean Fare: {mean_fare}\")\n",
        "print(f\"Median Fare: {median_fare}\")\n",
        "print(f\"Maximum Fare: {max_fare}\")\n",
        "print(f\"Minimum Fare: {min_fare}\")"
      ],
      "metadata": {
        "colab": {
          "base_uri": "https://localhost:8080/"
        },
        "id": "jmEebkIOKlFH",
        "outputId": "0c585127-3441-4093-a8f0-1a43c552b224"
      },
      "execution_count": null,
      "outputs": [
        {
          "output_type": "stream",
          "name": "stdout",
          "text": [
            "Mean Fare: 84.1546875\n",
            "Median Fare: 60.287499999999994\n",
            "Maximum Fare: 512.3292\n",
            "Minimum Fare: 0.0\n"
          ]
        }
      ]
    },
    {
      "cell_type": "code",
      "source": [
        "# Step 1: Count the number of null values in the 'Age' column\n",
        "null_values_count = d['Age'].isnull().sum()\n",
        "print(f\"Number of null values in 'Age' column: {null_values_count}\")\n",
        "\n",
        "# Step 2: Drop rows where 'Age' is null\n",
        "d_cleaned = d.dropna(subset=['Age'])\n",
        "\n",
        "# Optionally, verify that the null values are dropped\n",
        "print(f\"Number of null values in 'Age' column after dropping: {d_cleaned['Age'].isnull().sum()}\")\n"
      ],
      "metadata": {
        "colab": {
          "base_uri": "https://localhost:8080/"
        },
        "id": "o-PqVWI1LaN3",
        "outputId": "d00580fd-785a-4ce6-bcac-afb797a0ff2e"
      },
      "execution_count": null,
      "outputs": [
        {
          "output_type": "stream",
          "name": "stdout",
          "text": [
            "Number of null values in 'Age' column: 177\n",
            "Number of null values in 'Age' column after dropping: 0\n"
          ]
        }
      ]
    },
    {
      "cell_type": "markdown",
      "source": [
        "Problem - 3:"
      ],
      "metadata": {
        "id": "z47Al3neL7RJ"
      }
    },
    {
      "cell_type": "code",
      "source": [
        "# Step 1: Use one-hot encoding to convert the 'Embarked' column into separate binary columns\n",
        "embarked_encoded = pd.get_dummies(d['Embarked'], prefix='Embarked')\n",
        "\n",
        "# Step 2: Add these new columns to the original DataFrame\n",
        "embarked_encoded = pd.concat([d, embarked_encoded], axis=1)\n",
        "\n",
        "# Step 3: Drop the original 'Embarked' column\n",
        "embarked_encoded.drop(columns=['Embarked'])\n",
        "\n",
        "# Step 4: Print the first few rows of the modified DataFrame to verify the changes\n",
        "print(embarked_encoded.head())\n",
        "\n"
      ],
      "metadata": {
        "colab": {
          "base_uri": "https://localhost:8080/"
        },
        "id": "6jmym0dkL6T_",
        "outputId": "9b1c98cf-f09a-4af1-b26c-10b74af925a5"
      },
      "execution_count": 60,
      "outputs": [
        {
          "output_type": "stream",
          "name": "stdout",
          "text": [
            "   PassengerId  Survived  Pclass  \\\n",
            "0            1         0       3   \n",
            "1            2         1       1   \n",
            "2            3         1       3   \n",
            "3            4         1       1   \n",
            "4            5         0       3   \n",
            "\n",
            "                                                Name     Sex   Age  SibSp  \\\n",
            "0                            Braund, Mr. Owen Harris    male  22.0      1   \n",
            "1  Cumings, Mrs. John Bradley (Florence Briggs Th...  female  38.0      1   \n",
            "2                             Heikkinen, Miss. Laina  female  26.0      0   \n",
            "3       Futrelle, Mrs. Jacques Heath (Lily May Peel)  female  35.0      1   \n",
            "4                           Allen, Mr. William Henry    male  35.0      0   \n",
            "\n",
            "   Parch            Ticket     Fare Cabin Embarked  Embarked_C  Embarked_Q  \\\n",
            "0      0         A/5 21171   7.2500   NaN        S       False       False   \n",
            "1      0          PC 17599  71.2833   C85        C        True       False   \n",
            "2      0  STON/O2. 3101282   7.9250   NaN        S       False       False   \n",
            "3      0            113803  53.1000  C123        S       False       False   \n",
            "4      0            373450   8.0500   NaN        S       False       False   \n",
            "\n",
            "   Embarked_S  \n",
            "0        True  \n",
            "1       False  \n",
            "2        True  \n",
            "3        True  \n",
            "4        True  \n"
          ]
        }
      ]
    },
    {
      "cell_type": "markdown",
      "source": [
        "Problem - 4:"
      ],
      "metadata": {
        "id": "S8RwyNvROaxG"
      }
    },
    {
      "cell_type": "code",
      "source": [
        "import matplotlib.pyplot as plt\n",
        "import seaborn as sns\n",
        "\n",
        "# Step 1: Group by 'Sex' and calculate the mean survival rate\n",
        "mean_survival_by_sex = d.groupby('Sex')['Survived'].mean()\n",
        "print(mean_survival_by_sex)\n",
        "\n",
        "# Step 2: Create a visualization (boxplot to show the distribution of survival by gender)\n",
        "plt.figure(figsize=(8, 6))\n",
        "sns.boxplot(x='Sex', y='Survived', data=d)\n",
        "plt.title('Survival Distributions by Gender')\n",
        "plt.ylabel('Survival (0 = No, 1 = Yes)')\n",
        "plt.show()\n"
      ],
      "metadata": {
        "colab": {
          "base_uri": "https://localhost:8080/",
          "height": 633
        },
        "id": "r3pI7MqIObfC",
        "outputId": "603ccba5-ac79-4fd4-9700-051ed715e6e1"
      },
      "execution_count": null,
      "outputs": [
        {
          "output_type": "stream",
          "name": "stdout",
          "text": [
            "Sex\n",
            "female    0.742038\n",
            "male      0.188908\n",
            "Name: Survived, dtype: float64\n"
          ]
        },
        {
          "output_type": "display_data",
          "data": {
            "text/plain": [
              "<Figure size 800x600 with 1 Axes>"
            ],
            "image/png": "[encoded data removed]"
          },
          "metadata": {}
        }
      ]
    },
    {
      "cell_type": "code",
      "source": [
        "import matplotlib.pyplot as plt\n",
        "import seaborn as sns\n",
        "\n",
        "survival_embarked = d.groupby('Embarked')['Survived'].mean()\n",
        "survival_embarked.plot(kind='bar', stacked=True, color=['blue', 'red', 'yellow'], alpha=0.7)\n",
        "\n",
        "plt.title('Rates by Embarked Ports')\n",
        "plt.xlabel('Embarked Ports')\n",
        "plt.ylabel('Mean Survival Rate')\n",
        "plt.xticks(rotation=0)\n",
        "plt.show()"
      ],
      "metadata": {
        "colab": {
          "base_uri": "https://localhost:8080/",
          "height": 472
        },
        "id": "gu9XWB1OPZFC",
        "outputId": "d05c350e-f43d-4a58-c1be-a59b75b7f334"
      },
      "execution_count": 63,
      "outputs": [
        {
          "output_type": "display_data",
          "data": {
            "text/plain": [
              "<Figure size 640x480 with 1 Axes>"
            ],
            "image/png": "[encoded data removed]"
          },
          "metadata": {}
        }
      ]
    }
  ]
}